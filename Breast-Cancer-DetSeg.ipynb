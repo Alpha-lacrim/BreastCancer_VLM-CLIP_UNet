{
 "nbformat": 4,
 "nbformat_minor": 5,
 "metadata": {
  "kernelspec": {
   "display_name": "Python 3",
   "language": "python",
   "name": "python3"
  },
  "language_info": {
   "codemirror_mode": {
    "name": "ipython",
    "version": 3
   },
   "file_extension": ".py",
   "mimetype": "text/x-python",
   "name": "python",
   "nbconvert_exporter": "python",
   "pygments_lexer": "ipython3",
   "version": "3.10"
  }
 },
 "cells": [
  {
   "cell_type": "markdown",
   "id": "c4065a03",
   "metadata": {},
   "source": [
    "<h1 dir=ltr align=center style=\"line-height:200%;font-family:sans-serif;color:#0099cc\">\n",
    "<font face=\"sans-serif\" color=\"#0099cc\">\n",
    "Ultravision Operations\n",
    "</font>\n",
    "</h1>"
   ]
  },
  {
   "cell_type": "markdown",
   "id": "88503a64",
   "metadata": {},
   "source": [
    "<h2 dir=ltr align=left style=\"line-height:200%;font-family:sans-serif;color:#0099cc\">\n",
    "<font face=\"sans-serif\" color=\"#0099cc\">\n",
    "Introduction and Problem Statement\n",
    "</font>\n",
    "</h2>\n",
    "\n",
    "\n",
    "<p dir=ltr style=\"direction: ltr; text-align: justify; line-height:200%; font-family:sans-serif; font-size:medium\">\n",
    "<font face=\"sans-serif\">\n",
    "Welcome to the final stage of the Quera Image Processing and Computer Vision Olympiad! A place where pixels find meaning, models make decisions, and you are the commander of a great scientific mission. In this stage, you will face a multi-part project; a mission that challenges your intelligence, precision, and creativity in the segmentation, classification, and analysis of medical images.\n",
    "</font>\n",
    "</p>"
   ]
  },
  {
   "cell_type": "markdown",
   "id": "0f6ce10f",
   "metadata": {},
   "source": [
    "<h2 dir=ltr align=left style=\"line-height:200%;font-family:sans-serif;color:#0099cc\">\n",
    "<font face=\"sans-serif\" color=\"#0099cc\">\n",
    "Dataset Introduction\n",
    "</font>\n",
    "</h2>\n",
    "\n",
    "<p dir=ltr style=\"direction: ltr; text-align: justify; line-height:200%; font-family:sans-serif; font-size:medium\">\n",
    "<font face=\"sans-serif\" size=3>\n",
    " In the project's root folder, there are two folders named <code>train</code> and <code>test</code>.\n",
    "Each folder contains the images for the training and test sets.\n",
    "\n",
    "<p dir=ltr style=\"direction: ltr; text-align: justify; line-height:200%; font-family:sans-serif; font-size:medium\">\n",
    "<font face=\"sans-serif\" size=3>\n",
    "The train folder contains all the training images. In this folder, there is another file named <code>train.csv</code>, in which the label for each image is specified in <code>One_Hot</code> format.\n",
    "\n",
    "<p dir=ltr style=\"direction: ltr; text-align: justify; line-height:200%; font-family:sans-serif; font-size:medium\">\n",
    "<font face=\"sans-serif\" size=3>\n",
    " The training set includes three classes: benign, malignant, and normal. Within each class folder, there are two separate subfolders named images and masks; the images folder contains the original ultrasound images, and the masks folder contains the corresponding segmented masks for those images. The name of the mask file is exactly the same as the original image, with only the suffix _mask added to the end of its name (e.g., the image benign (1).png has the mask benign (1)_mask.png). This structure allows you to easily access the images and masks for each class in the training sets and use them to train and evaluate classification or segmentation models.\n",
    "\n",
    "<p dir=ltr style=\"direction: ltr; text-align: justify; line-height:200%; font-family:sans-serif; font-size:medium\">\n",
    "<font face=\"sans-serif\" size=3>\n",
    "The test folder also contains all the test images. Additionally, a file named <code>test.csv</code> is located in this folder. This file contains the names of the test set images, but their labels are unknown. You must predict the label for each image in the order they appear in this file.\n",
    "</font>\n",
    "</p>"
   ]
  },
  {
   "cell_type": "markdown",
   "id": "68640bdc",
   "metadata": {},
   "source": []
  },
  {
   "cell_type": "markdown",
   "id": "887d7411",
   "metadata": {},
   "source": [
    "<h4 dir=ltr align=left style=\"line-height:200%;font-family:sans-serif;color:#0099cc\">\n",
    "<font face=\"sans-serif\" color=\"#0099cc\">\n",
    "Introduction to the Training Dataset (train)\n",
    "</font>\n",
    "</h4>\n",
    "\n",
    "<div dir=\"ltr\">\n",
    "<p dir=ltr style=\"direction: ltr; text-align: justify; line-height:200%; font-family:sans-serif; font-size:medium\">\n",
    "<font face=\"sans-serif\" size=3>\n",
    "\n",
    "The <code>train</code> set has 624 images with average dimensions of 500x500. The segmented images for each class are located in the mask folder for that category.\n",
    "\n",
    "The <code>train.csv</code> file is where the name of each image and its label are specified in <code>one_hot</code> format. This file is as follows.\n",
    "\n",
    "<center>\n",
    "<div dir=ltr style=\"direction: ltr;line-height:200%;font-family:sans-serif;font-size:medium\">\n",
    "<font face=\"sans-serif\" size=3>\n",
    "    \n",
    "\n",
    "| Column Name | Explanation |\n",
    "|:---: |:---: |\n",
    "| `image` | Image name|\n",
    "| `class_benign` | Image contains a benign tumor. |\n",
    "| `class_malignant` |Image contains a malignant tumor.|\n",
    "| `class_normal` |Image has no tumor.|\n",
    "\n",
    "\n",
    "</font>\n",
    "</div>\n",
    "</center>\n",
    "</div>"
   ]
  },
  {
   "cell_type": "markdown",
   "id": "e9db7bc8",
   "metadata": {},
   "source": []
  },
  {
   "cell_type": "markdown",
   "id": "4e3bebd0",
   "metadata": {},
   "source": [
    "<h4 dir=ltr align=left style=\"line-height:200%;font-family:sans-serif;color:#0099cc\">\n",
    "<font face=\"sans-serif\" color=\"#0099cc\">\n",
    "Introduction to the Test Dataset (test)\n",
    "</font>\n",
    "</h4>\n",
    "\n",
    "<div dir=\"ltr\">\n",
    "<p dir=ltr style=\"direction: ltr; text-align: justify; line-height:200%; font-family:sans-serif; font-size:medium\">\n",
    "<font face=\"sans-serif\" size=3>\n",
    "\n",
    "The <code>test</code> set has 156 images with dimensions of 500x500.\n",
    "\n",
    "In the <code>test.csv</code> file, the names of the test set images are listed. At the end, you must make your predictions based on this file. This file is as follows:\n",
    "\n",
    "<center>\n",
    "<div dir=ltr style=\"direction: ltr;line-height:200%;font-family:sans-serif;font-size:medium\">\n",
    "<font face=\"sans-serif\" size=3>\n",
    "    \n",
    "\n",
    "| Column Name | Explanation |\n",
    "|:---: |:---: |\n",
    "| `image` | Image name|\n",
    "\n",
    "\n",
    "</font>\n",
    "</div>\n",
    "</center>\n",
    "</div>"
   ]
  },
  {
   "cell_type": "markdown",
   "id": "ab2d3c22",
   "metadata": {},
   "source": [
    "<h2 dir=ltr align=left style=\"line-height:200%;font-family:sans-serif;color:#0099cc\">\n",
    "<font face=\"sans-serif\" color=\"#0099cc\">\n",
    "Part One: Classification using Vision-Language Models\n",
    "</font>\n",
    "</h2>\n",
    "\n",
    "<p dir=ltr style=\"direction: ltr; text-align: justify; line-height:200%; font-family:sans-serif; font-size:medium\">\n",
    "<font face=\"sans-serif\" size=3>\n",
    "As described, place the code for designing a vision-language model in this section. Your training results must be evident in this section.\n",
    "</font>\n",
    "</p>\n"
   ]
  },
  {
   "metadata": {
    "ExecuteTime": {
     "end_time": "2025-10-30T09:35:28.315471Z",
     "start_time": "2025-10-30T09:35:28.103314Z"
    }
   },
   "cell_type": "code",
   "source": [
    "import numpy\n",
    "print(numpy.__version__)"
   ],
   "id": "a18e648433a09ef0",
   "outputs": [
    {
     "name": "stdout",
     "output_type": "stream",
     "text": [
      "1.26.4\n"
     ]
    }
   ],
   "execution_count": 1
  },
  {
   "metadata": {
    "ExecuteTime": {
     "end_time": "2025-10-30T09:27:58.630296Z",
     "start_time": "2025-10-30T09:27:54.747192Z"
    }
   },
   "cell_type": "code",
   "source": "!pip install --upgrade clip torch segmentation-models-pytorch albumentations",
   "id": "98de620ddf21834e",
   "outputs": [
    {
     "name": "stdout",
     "output_type": "stream",
     "text": [
      "Defaulting to user installation because normal site-packages is not writeable\n",
      "Requirement already satisfied: clip in c:\\users\\pouyan\\appdata\\roaming\\python\\python312\\site-packages (1.0)\n",
      "Requirement already satisfied: torch in c:\\users\\pouyan\\appdata\\roaming\\python\\python312\\site-packages (2.6.0)\n",
      "Collecting torch\n",
      "  Downloading torch-2.9.0-cp312-cp312-win_amd64.whl.metadata (30 kB)\n",
      "Requirement already satisfied: segmentation-models-pytorch in c:\\users\\pouyan\\appdata\\roaming\\python\\python312\\site-packages (0.5.0)\n",
      "Requirement already satisfied: albumentations in c:\\users\\pouyan\\appdata\\roaming\\python\\python312\\site-packages (2.0.8)\n",
      "Requirement already satisfied: ftfy in c:\\users\\pouyan\\appdata\\roaming\\python\\python312\\site-packages (from clip) (6.3.1)\n",
      "Requirement already satisfied: packaging in c:\\programdata\\anaconda3\\lib\\site-packages (from clip) (24.1)\n",
      "Requirement already satisfied: regex in c:\\programdata\\anaconda3\\lib\\site-packages (from clip) (2024.9.11)\n",
      "Requirement already satisfied: tqdm in c:\\programdata\\anaconda3\\lib\\site-packages (from clip) (4.66.5)\n",
      "Requirement already satisfied: torchvision in c:\\users\\pouyan\\appdata\\roaming\\python\\python312\\site-packages (from clip) (0.21.0)\n",
      "Requirement already satisfied: filelock in c:\\programdata\\anaconda3\\lib\\site-packages (from torch) (3.13.1)\n",
      "Requirement already satisfied: typing-extensions>=4.10.0 in c:\\users\\pouyan\\appdata\\roaming\\python\\python312\\site-packages (from torch) (4.15.0)\n",
      "Collecting sympy>=1.13.3 (from torch)\n",
      "  Downloading sympy-1.14.0-py3-none-any.whl.metadata (12 kB)\n",
      "Requirement already satisfied: networkx>=2.5.1 in c:\\programdata\\anaconda3\\lib\\site-packages (from torch) (3.3)\n",
      "Requirement already satisfied: jinja2 in c:\\programdata\\anaconda3\\lib\\site-packages (from torch) (3.1.4)\n",
      "Requirement already satisfied: fsspec>=0.8.5 in c:\\programdata\\anaconda3\\lib\\site-packages (from torch) (2024.6.1)\n",
      "Requirement already satisfied: setuptools in c:\\programdata\\anaconda3\\lib\\site-packages (from torch) (75.1.0)\n",
      "Requirement already satisfied: huggingface-hub>=0.24 in c:\\users\\pouyan\\appdata\\roaming\\python\\python312\\site-packages (from segmentation-models-pytorch) (0.32.2)\n",
      "Requirement already satisfied: numpy>=1.19.3 in c:\\users\\pouyan\\appdata\\roaming\\python\\python312\\site-packages (from segmentation-models-pytorch) (2.2.6)\n",
      "Requirement already satisfied: pillow>=8 in c:\\programdata\\anaconda3\\lib\\site-packages (from segmentation-models-pytorch) (10.4.0)\n",
      "Requirement already satisfied: safetensors>=0.3.1 in c:\\users\\pouyan\\appdata\\roaming\\python\\python312\\site-packages (from segmentation-models-pytorch) (0.5.3)\n",
      "Requirement already satisfied: timm>=0.9 in c:\\users\\pouyan\\appdata\\roaming\\python\\python312\\site-packages (from segmentation-models-pytorch) (1.0.21)\n",
      "Requirement already satisfied: scipy>=1.10.0 in c:\\programdata\\anaconda3\\lib\\site-packages (from albumentations) (1.13.1)\n",
      "Requirement already satisfied: PyYAML in c:\\programdata\\anaconda3\\lib\\site-packages (from albumentations) (6.0.1)\n",
      "Requirement already satisfied: pydantic>=2.9.2 in c:\\users\\pouyan\\appdata\\roaming\\python\\python312\\site-packages (from albumentations) (2.12.3)\n",
      "Requirement already satisfied: albucore==0.0.24 in c:\\users\\pouyan\\appdata\\roaming\\python\\python312\\site-packages (from albumentations) (0.0.24)\n",
      "Requirement already satisfied: opencv-python-headless>=4.9.0.80 in c:\\users\\pouyan\\appdata\\roaming\\python\\python312\\site-packages (from albumentations) (4.12.0.88)\n",
      "Requirement already satisfied: stringzilla>=3.10.4 in c:\\users\\pouyan\\appdata\\roaming\\python\\python312\\site-packages (from albucore==0.0.24->albumentations) (4.2.3)\n",
      "Requirement already satisfied: simsimd>=5.9.2 in c:\\users\\pouyan\\appdata\\roaming\\python\\python312\\site-packages (from albucore==0.0.24->albumentations) (6.5.3)\n",
      "Requirement already satisfied: requests in c:\\programdata\\anaconda3\\lib\\site-packages (from huggingface-hub>=0.24->segmentation-models-pytorch) (2.32.3)\n",
      "Requirement already satisfied: annotated-types>=0.6.0 in c:\\programdata\\anaconda3\\lib\\site-packages (from pydantic>=2.9.2->albumentations) (0.6.0)\n",
      "Requirement already satisfied: pydantic-core==2.41.4 in c:\\users\\pouyan\\appdata\\roaming\\python\\python312\\site-packages (from pydantic>=2.9.2->albumentations) (2.41.4)\n",
      "Requirement already satisfied: typing-inspection>=0.4.2 in c:\\users\\pouyan\\appdata\\roaming\\python\\python312\\site-packages (from pydantic>=2.9.2->albumentations) (0.4.2)\n",
      "Requirement already satisfied: mpmath<1.4,>=1.1.0 in c:\\programdata\\anaconda3\\lib\\site-packages (from sympy>=1.13.3->torch) (1.3.0)\n",
      "Requirement already satisfied: sympy==1.13.1 in c:\\users\\pouyan\\appdata\\roaming\\python\\python312\\site-packages (from torch) (1.13.1)\n",
      "Requirement already satisfied: colorama in c:\\programdata\\anaconda3\\lib\\site-packages (from tqdm->clip) (0.4.6)\n",
      "Requirement already satisfied: wcwidth in c:\\programdata\\anaconda3\\lib\\site-packages (from ftfy->clip) (0.2.5)\n",
      "Requirement already satisfied: MarkupSafe>=2.0 in c:\\programdata\\anaconda3\\lib\\site-packages (from jinja2->torch) (2.1.3)\n",
      "Requirement already satisfied: charset-normalizer<4,>=2 in c:\\programdata\\anaconda3\\lib\\site-packages (from requests->huggingface-hub>=0.24->segmentation-models-pytorch) (3.3.2)\n",
      "Requirement already satisfied: idna<4,>=2.5 in c:\\programdata\\anaconda3\\lib\\site-packages (from requests->huggingface-hub>=0.24->segmentation-models-pytorch) (3.7)\n",
      "Requirement already satisfied: urllib3<3,>=1.21.1 in c:\\users\\pouyan\\appdata\\roaming\\python\\python312\\site-packages (from requests->huggingface-hub>=0.24->segmentation-models-pytorch) (2.5.0)\n",
      "Requirement already satisfied: certifi>=2017.4.17 in c:\\programdata\\anaconda3\\lib\\site-packages (from requests->huggingface-hub>=0.24->segmentation-models-pytorch) (2025.8.3)\n"
     ]
    }
   ],
   "execution_count": 5
  },
  {
   "metadata": {
    "ExecuteTime": {
     "end_time": "2025-10-30T09:35:40.913957Z",
     "start_time": "2025-10-30T09:35:32.942510Z"
    }
   },
   "cell_type": "code",
   "source": [
    "from tqdm import tqdm\n",
    "from sklearn.metrics import f1_score, classification_report\n",
    "import clip\n",
    "import glob\n",
    "import pandas as pd\n",
    "import numpy as np\n",
    "from PIL import Image\n",
    "from tqdm.notebook import tqdm\n",
    "import torch\n",
    "import torch.nn as nn\n",
    "from torch.utils.data import Dataset, DataLoader, random_split\n",
    "import torch.optim as optim\n",
    "import albumentations as A\n",
    "from albumentations.pytorch import ToTensorV2\n",
    "import segmentation_models_pytorch as smp\n",
    "import zipfile\n",
    "import os"
   ],
   "id": "c4e480e029902609",
   "outputs": [],
   "execution_count": 2
  },
  {
   "metadata": {
    "ExecuteTime": {
     "end_time": "2025-10-30T09:37:59.066129Z",
     "start_time": "2025-10-30T09:37:58.436321Z"
    }
   },
   "cell_type": "code",
   "source": "df = pd.read_csv('train/train.csv')",
   "id": "a2efc8676f17bbaf",
   "outputs": [
    {
     "ename": "FileNotFoundError",
     "evalue": "[Errno 2] No such file or directory: 'train/train.csv'",
     "output_type": "error",
     "traceback": [
      "\u001B[1;31m---------------------------------------------------------------------------\u001B[0m",
      "\u001B[1;31mFileNotFoundError\u001B[0m                         Traceback (most recent call last)",
      "Cell \u001B[1;32mIn[3], line 1\u001B[0m\n\u001B[1;32m----> 1\u001B[0m df \u001B[38;5;241m=\u001B[39m pd\u001B[38;5;241m.\u001B[39mread_csv(\u001B[38;5;124m'\u001B[39m\u001B[38;5;124mtrain/train.csv\u001B[39m\u001B[38;5;124m'\u001B[39m)\n",
      "File \u001B[1;32mC:\\ProgramData\\anaconda3\\Lib\\site-packages\\pandas\\io\\parsers\\readers.py:1026\u001B[0m, in \u001B[0;36mread_csv\u001B[1;34m(filepath_or_buffer, sep, delimiter, header, names, index_col, usecols, dtype, engine, converters, true_values, false_values, skipinitialspace, skiprows, skipfooter, nrows, na_values, keep_default_na, na_filter, verbose, skip_blank_lines, parse_dates, infer_datetime_format, keep_date_col, date_parser, date_format, dayfirst, cache_dates, iterator, chunksize, compression, thousands, decimal, lineterminator, quotechar, quoting, doublequote, escapechar, comment, encoding, encoding_errors, dialect, on_bad_lines, delim_whitespace, low_memory, memory_map, float_precision, storage_options, dtype_backend)\u001B[0m\n\u001B[0;32m   1013\u001B[0m kwds_defaults \u001B[38;5;241m=\u001B[39m _refine_defaults_read(\n\u001B[0;32m   1014\u001B[0m     dialect,\n\u001B[0;32m   1015\u001B[0m     delimiter,\n\u001B[1;32m   (...)\u001B[0m\n\u001B[0;32m   1022\u001B[0m     dtype_backend\u001B[38;5;241m=\u001B[39mdtype_backend,\n\u001B[0;32m   1023\u001B[0m )\n\u001B[0;32m   1024\u001B[0m kwds\u001B[38;5;241m.\u001B[39mupdate(kwds_defaults)\n\u001B[1;32m-> 1026\u001B[0m \u001B[38;5;28;01mreturn\u001B[39;00m _read(filepath_or_buffer, kwds)\n",
      "File \u001B[1;32mC:\\ProgramData\\anaconda3\\Lib\\site-packages\\pandas\\io\\parsers\\readers.py:620\u001B[0m, in \u001B[0;36m_read\u001B[1;34m(filepath_or_buffer, kwds)\u001B[0m\n\u001B[0;32m    617\u001B[0m _validate_names(kwds\u001B[38;5;241m.\u001B[39mget(\u001B[38;5;124m\"\u001B[39m\u001B[38;5;124mnames\u001B[39m\u001B[38;5;124m\"\u001B[39m, \u001B[38;5;28;01mNone\u001B[39;00m))\n\u001B[0;32m    619\u001B[0m \u001B[38;5;66;03m# Create the parser.\u001B[39;00m\n\u001B[1;32m--> 620\u001B[0m parser \u001B[38;5;241m=\u001B[39m TextFileReader(filepath_or_buffer, \u001B[38;5;241m*\u001B[39m\u001B[38;5;241m*\u001B[39mkwds)\n\u001B[0;32m    622\u001B[0m \u001B[38;5;28;01mif\u001B[39;00m chunksize \u001B[38;5;129;01mor\u001B[39;00m iterator:\n\u001B[0;32m    623\u001B[0m     \u001B[38;5;28;01mreturn\u001B[39;00m parser\n",
      "File \u001B[1;32mC:\\ProgramData\\anaconda3\\Lib\\site-packages\\pandas\\io\\parsers\\readers.py:1620\u001B[0m, in \u001B[0;36mTextFileReader.__init__\u001B[1;34m(self, f, engine, **kwds)\u001B[0m\n\u001B[0;32m   1617\u001B[0m     \u001B[38;5;28mself\u001B[39m\u001B[38;5;241m.\u001B[39moptions[\u001B[38;5;124m\"\u001B[39m\u001B[38;5;124mhas_index_names\u001B[39m\u001B[38;5;124m\"\u001B[39m] \u001B[38;5;241m=\u001B[39m kwds[\u001B[38;5;124m\"\u001B[39m\u001B[38;5;124mhas_index_names\u001B[39m\u001B[38;5;124m\"\u001B[39m]\n\u001B[0;32m   1619\u001B[0m \u001B[38;5;28mself\u001B[39m\u001B[38;5;241m.\u001B[39mhandles: IOHandles \u001B[38;5;241m|\u001B[39m \u001B[38;5;28;01mNone\u001B[39;00m \u001B[38;5;241m=\u001B[39m \u001B[38;5;28;01mNone\u001B[39;00m\n\u001B[1;32m-> 1620\u001B[0m \u001B[38;5;28mself\u001B[39m\u001B[38;5;241m.\u001B[39m_engine \u001B[38;5;241m=\u001B[39m \u001B[38;5;28mself\u001B[39m\u001B[38;5;241m.\u001B[39m_make_engine(f, \u001B[38;5;28mself\u001B[39m\u001B[38;5;241m.\u001B[39mengine)\n",
      "File \u001B[1;32mC:\\ProgramData\\anaconda3\\Lib\\site-packages\\pandas\\io\\parsers\\readers.py:1880\u001B[0m, in \u001B[0;36mTextFileReader._make_engine\u001B[1;34m(self, f, engine)\u001B[0m\n\u001B[0;32m   1878\u001B[0m     \u001B[38;5;28;01mif\u001B[39;00m \u001B[38;5;124m\"\u001B[39m\u001B[38;5;124mb\u001B[39m\u001B[38;5;124m\"\u001B[39m \u001B[38;5;129;01mnot\u001B[39;00m \u001B[38;5;129;01min\u001B[39;00m mode:\n\u001B[0;32m   1879\u001B[0m         mode \u001B[38;5;241m+\u001B[39m\u001B[38;5;241m=\u001B[39m \u001B[38;5;124m\"\u001B[39m\u001B[38;5;124mb\u001B[39m\u001B[38;5;124m\"\u001B[39m\n\u001B[1;32m-> 1880\u001B[0m \u001B[38;5;28mself\u001B[39m\u001B[38;5;241m.\u001B[39mhandles \u001B[38;5;241m=\u001B[39m get_handle(\n\u001B[0;32m   1881\u001B[0m     f,\n\u001B[0;32m   1882\u001B[0m     mode,\n\u001B[0;32m   1883\u001B[0m     encoding\u001B[38;5;241m=\u001B[39m\u001B[38;5;28mself\u001B[39m\u001B[38;5;241m.\u001B[39moptions\u001B[38;5;241m.\u001B[39mget(\u001B[38;5;124m\"\u001B[39m\u001B[38;5;124mencoding\u001B[39m\u001B[38;5;124m\"\u001B[39m, \u001B[38;5;28;01mNone\u001B[39;00m),\n\u001B[0;32m   1884\u001B[0m     compression\u001B[38;5;241m=\u001B[39m\u001B[38;5;28mself\u001B[39m\u001B[38;5;241m.\u001B[39moptions\u001B[38;5;241m.\u001B[39mget(\u001B[38;5;124m\"\u001B[39m\u001B[38;5;124mcompression\u001B[39m\u001B[38;5;124m\"\u001B[39m, \u001B[38;5;28;01mNone\u001B[39;00m),\n\u001B[0;32m   1885\u001B[0m     memory_map\u001B[38;5;241m=\u001B[39m\u001B[38;5;28mself\u001B[39m\u001B[38;5;241m.\u001B[39moptions\u001B[38;5;241m.\u001B[39mget(\u001B[38;5;124m\"\u001B[39m\u001B[38;5;124mmemory_map\u001B[39m\u001B[38;5;124m\"\u001B[39m, \u001B[38;5;28;01mFalse\u001B[39;00m),\n\u001B[0;32m   1886\u001B[0m     is_text\u001B[38;5;241m=\u001B[39mis_text,\n\u001B[0;32m   1887\u001B[0m     errors\u001B[38;5;241m=\u001B[39m\u001B[38;5;28mself\u001B[39m\u001B[38;5;241m.\u001B[39moptions\u001B[38;5;241m.\u001B[39mget(\u001B[38;5;124m\"\u001B[39m\u001B[38;5;124mencoding_errors\u001B[39m\u001B[38;5;124m\"\u001B[39m, \u001B[38;5;124m\"\u001B[39m\u001B[38;5;124mstrict\u001B[39m\u001B[38;5;124m\"\u001B[39m),\n\u001B[0;32m   1888\u001B[0m     storage_options\u001B[38;5;241m=\u001B[39m\u001B[38;5;28mself\u001B[39m\u001B[38;5;241m.\u001B[39moptions\u001B[38;5;241m.\u001B[39mget(\u001B[38;5;124m\"\u001B[39m\u001B[38;5;124mstorage_options\u001B[39m\u001B[38;5;124m\"\u001B[39m, \u001B[38;5;28;01mNone\u001B[39;00m),\n\u001B[0;32m   1889\u001B[0m )\n\u001B[0;32m   1890\u001B[0m \u001B[38;5;28;01massert\u001B[39;00m \u001B[38;5;28mself\u001B[39m\u001B[38;5;241m.\u001B[39mhandles \u001B[38;5;129;01mis\u001B[39;00m \u001B[38;5;129;01mnot\u001B[39;00m \u001B[38;5;28;01mNone\u001B[39;00m\n\u001B[0;32m   1891\u001B[0m f \u001B[38;5;241m=\u001B[39m \u001B[38;5;28mself\u001B[39m\u001B[38;5;241m.\u001B[39mhandles\u001B[38;5;241m.\u001B[39mhandle\n",
      "File \u001B[1;32mC:\\ProgramData\\anaconda3\\Lib\\site-packages\\pandas\\io\\common.py:873\u001B[0m, in \u001B[0;36mget_handle\u001B[1;34m(path_or_buf, mode, encoding, compression, memory_map, is_text, errors, storage_options)\u001B[0m\n\u001B[0;32m    868\u001B[0m \u001B[38;5;28;01melif\u001B[39;00m \u001B[38;5;28misinstance\u001B[39m(handle, \u001B[38;5;28mstr\u001B[39m):\n\u001B[0;32m    869\u001B[0m     \u001B[38;5;66;03m# Check whether the filename is to be opened in binary mode.\u001B[39;00m\n\u001B[0;32m    870\u001B[0m     \u001B[38;5;66;03m# Binary mode does not support 'encoding' and 'newline'.\u001B[39;00m\n\u001B[0;32m    871\u001B[0m     \u001B[38;5;28;01mif\u001B[39;00m ioargs\u001B[38;5;241m.\u001B[39mencoding \u001B[38;5;129;01mand\u001B[39;00m \u001B[38;5;124m\"\u001B[39m\u001B[38;5;124mb\u001B[39m\u001B[38;5;124m\"\u001B[39m \u001B[38;5;129;01mnot\u001B[39;00m \u001B[38;5;129;01min\u001B[39;00m ioargs\u001B[38;5;241m.\u001B[39mmode:\n\u001B[0;32m    872\u001B[0m         \u001B[38;5;66;03m# Encoding\u001B[39;00m\n\u001B[1;32m--> 873\u001B[0m         handle \u001B[38;5;241m=\u001B[39m \u001B[38;5;28mopen\u001B[39m(\n\u001B[0;32m    874\u001B[0m             handle,\n\u001B[0;32m    875\u001B[0m             ioargs\u001B[38;5;241m.\u001B[39mmode,\n\u001B[0;32m    876\u001B[0m             encoding\u001B[38;5;241m=\u001B[39mioargs\u001B[38;5;241m.\u001B[39mencoding,\n\u001B[0;32m    877\u001B[0m             errors\u001B[38;5;241m=\u001B[39merrors,\n\u001B[0;32m    878\u001B[0m             newline\u001B[38;5;241m=\u001B[39m\u001B[38;5;124m\"\u001B[39m\u001B[38;5;124m\"\u001B[39m,\n\u001B[0;32m    879\u001B[0m         )\n\u001B[0;32m    880\u001B[0m     \u001B[38;5;28;01melse\u001B[39;00m:\n\u001B[0;32m    881\u001B[0m         \u001B[38;5;66;03m# Binary mode\u001B[39;00m\n\u001B[0;32m    882\u001B[0m         handle \u001B[38;5;241m=\u001B[39m \u001B[38;5;28mopen\u001B[39m(handle, ioargs\u001B[38;5;241m.\u001B[39mmode)\n",
      "\u001B[1;31mFileNotFoundError\u001B[0m: [Errno 2] No such file or directory: 'train/train.csv'"
     ]
    }
   ],
   "execution_count": 3
  },
  {
   "metadata": {
    "ExecuteTime": {
     "end_time": "2025-10-28T07:39:51.698627Z",
     "start_time": "2025-10-28T07:39:51.679793Z"
    }
   },
   "cell_type": "code",
   "source": "df",
   "id": "65c6784ba4061a3a",
   "outputs": [
    {
     "data": {
      "text/plain": [
       "                   image  class_benign  class_malignant  class_normal\n",
       "0     malignant (88).png           0.0              1.0           0.0\n",
       "1        benign (81).png           1.0              0.0           0.0\n",
       "2    malignant (116).png           0.0              1.0           0.0\n",
       "3       benign (331).png           1.0              0.0           0.0\n",
       "4       benign (319).png           1.0              0.0           0.0\n",
       "..                   ...           ...              ...           ...\n",
       "619      normal (63).png           0.0              0.0           1.0\n",
       "620     benign (214).png           1.0              0.0           0.0\n",
       "621    malignant (7).png           0.0              1.0           0.0\n",
       "622     benign (400).png           1.0              0.0           0.0\n",
       "623     benign (215).png           1.0              0.0           0.0\n",
       "\n",
       "[624 rows x 4 columns]"
      ],
      "text/html": [
       "<div>\n",
       "<style scoped>\n",
       "    .dataframe tbody tr th:only-of-type {\n",
       "        vertical-align: middle;\n",
       "    }\n",
       "\n",
       "    .dataframe tbody tr th {\n",
       "        vertical-align: top;\n",
       "    }\n",
       "\n",
       "    .dataframe thead th {\n",
       "        text-align: right;\n",
       "    }\n",
       "</style>\n",
       "<table border=\"1\" class=\"dataframe\">\n",
       "  <thead>\n",
       "    <tr style=\"text-align: right;\">\n",
       "      <th></th>\n",
       "      <th>image</th>\n",
       "      <th>class_benign</th>\n",
       "      <th>class_malignant</th>\n",
       "      <th>class_normal</th>\n",
       "    </tr>\n",
       "  </thead>\n",
       "  <tbody>\n",
       "    <tr>\n",
       "      <th>0</th>\n",
       "      <td>malignant (88).png</td>\n",
       "      <td>0.0</td>\n",
       "      <td>1.0</td>\n",
       "      <td>0.0</td>\n",
       "    </tr>\n",
       "    <tr>\n",
       "      <th>1</th>\n",
       "      <td>benign (81).png</td>\n",
       "      <td>1.0</td>\n",
       "      <td>0.0</td>\n",
       "      <td>0.0</td>\n",
       "    </tr>\n",
       "    <tr>\n",
       "      <th>2</th>\n",
       "      <td>malignant (116).png</td>\n",
       "      <td>0.0</td>\n",
       "      <td>1.0</td>\n",
       "      <td>0.0</td>\n",
       "    </tr>\n",
       "    <tr>\n",
       "      <th>3</th>\n",
       "      <td>benign (331).png</td>\n",
       "      <td>1.0</td>\n",
       "      <td>0.0</td>\n",
       "      <td>0.0</td>\n",
       "    </tr>\n",
       "    <tr>\n",
       "      <th>4</th>\n",
       "      <td>benign (319).png</td>\n",
       "      <td>1.0</td>\n",
       "      <td>0.0</td>\n",
       "      <td>0.0</td>\n",
       "    </tr>\n",
       "    <tr>\n",
       "      <th>...</th>\n",
       "      <td>...</td>\n",
       "      <td>...</td>\n",
       "      <td>...</td>\n",
       "      <td>...</td>\n",
       "    </tr>\n",
       "    <tr>\n",
       "      <th>619</th>\n",
       "      <td>normal (63).png</td>\n",
       "      <td>0.0</td>\n",
       "      <td>0.0</td>\n",
       "      <td>1.0</td>\n",
       "    </tr>\n",
       "    <tr>\n",
       "      <th>620</th>\n",
       "      <td>benign (214).png</td>\n",
       "      <td>1.0</td>\n",
       "      <td>0.0</td>\n",
       "      <td>0.0</td>\n",
       "    </tr>\n",
       "    <tr>\n",
       "      <th>621</th>\n",
       "      <td>malignant (7).png</td>\n",
       "      <td>0.0</td>\n",
       "      <td>1.0</td>\n",
       "      <td>0.0</td>\n",
       "    </tr>\n",
       "    <tr>\n",
       "      <th>622</th>\n",
       "      <td>benign (400).png</td>\n",
       "      <td>1.0</td>\n",
       "      <td>0.0</td>\n",
       "      <td>0.0</td>\n",
       "    </tr>\n",
       "    <tr>\n",
       "      <th>623</th>\n",
       "      <td>benign (215).png</td>\n",
       "      <td>1.0</td>\n",
       "      <td>0.0</td>\n",
       "      <td>0.0</td>\n",
       "    </tr>\n",
       "  </tbody>\n",
       "</table>\n",
       "<p>624 rows × 4 columns</p>\n",
       "</div>"
      ]
     },
     "execution_count": 15,
     "metadata": {},
     "output_type": "execute_result"
    }
   ],
   "execution_count": 15
  },
  {
   "metadata": {
    "ExecuteTime": {
     "end_time": "2025-10-28T06:59:28.056495Z",
     "start_time": "2025-10-28T06:59:28.052179Z"
    }
   },
   "cell_type": "code",
   "source": [
    "# --- 1. Settings and Configuration ---\n",
    "class Config:\n",
    "    DATA_PATH = \"train/\" # Path to the train folder\n",
    "    DEVICE = \"cuda\" if torch.cuda.is_available() else \"cpu\"\n",
    "    CLIP_MODEL = \"ViT-B/32\"\n",
    "    EPOCHS = 10\n",
    "    BATCH_SIZE = 32\n",
    "    LEARNING_RATE = 1e-5 # Low learning rate for fine-tuning\n",
    "    VALIDATION_SPLIT = 0.2 # 20% for validation\n",
    "    RANDOM_SEED = 42"
   ],
   "id": "3e54227c2663680",
   "outputs": [],
   "execution_count": 5
  },
  {
   "metadata": {
    "ExecuteTime": {
     "end_time": "2025-10-28T06:59:28.062992Z",
     "start_time": "2025-10-28T06:59:28.057656Z"
    }
   },
   "cell_type": "code",
   "source": [
    "# Initial setup\n",
    "cfg = Config()\n",
    "torch.manual_seed(cfg.RANDOM_SEED)\n",
    "np.random.seed(cfg.RANDOM_SEED)"
   ],
   "id": "edad966d6933ce81",
   "outputs": [],
   "execution_count": 6
  },
  {
   "metadata": {
    "ExecuteTime": {
     "end_time": "2025-10-28T06:59:28.068293Z",
     "start_time": "2025-10-28T06:59:28.064134Z"
    }
   },
   "cell_type": "code",
   "source": [
    "# --- 2. Data Preparation (Dataset and DataLoader) ---\n",
    "class XRayDataset(Dataset):\n",
    "    \"\"\"\n",
    "    Custom Dataset class for loading images and labels.\n",
    "    \"\"\"\n",
    "    def __init__(self, dataframe, preprocess):\n",
    "        self.df = dataframe\n",
    "        self.preprocess = preprocess\n",
    "        self.class_to_idx = {\"normal\": 0, \"benign\": 1, \"malignant\": 2}\n",
    "\n",
    "    def __len__(self):\n",
    "        return len(self.df)\n",
    "\n",
    "    def __getitem__(self, idx):\n",
    "        row = self.df.iloc[idx]\n",
    "        image_path = row['image_path']\n",
    "        label_name = row['label']\n",
    "        label_idx = self.class_to_idx[label_name]\n",
    "\n",
    "        # Load image\n",
    "        try:\n",
    "            image = Image.open(image_path).convert(\"RGB\")\n",
    "            # Apply CLIP-required preprocessing\n",
    "            image_tensor = self.preprocess(image)\n",
    "            return image_tensor, label_idx\n",
    "        except Exception as e:\n",
    "            print(f\"Error loading image {image_path}: {e}\")\n",
    "            # In case of error, return an empty image and label\n",
    "            \n",
    "            return torch.zeros((3, 224, 224)), -1 "
   ],
   "id": "39ebd16ac6f916cd",
   "outputs": [],
   "execution_count": 7
  },
  {
   "metadata": {
    "ExecuteTime": {
     "end_time": "2025-10-28T06:59:28.073369Z",
     "start_time": "2025-10-28T06:59:28.068293Z"
    }
   },
   "cell_type": "code",
   "source": [
    "def prepare_dataframe(data_path):\n",
    "    \"\"\"\n",
    "    Traverse folders and build a DataFrame of image paths and labels.\n",
    "    \"\"\"\n",
    "    classes = [\"normal\", \"benign\", \"malignant\"]\n",
    "    data = []\n",
    "    for cls in classes:\n",
    "        img_dir = os.path.join(data_path, cls, \"images\")\n",
    "        if not os.path.exists(img_dir):\n",
    "            print(f\"Warning: Directory not found: {img_dir}\")\n",
    "            continue\n",
    "            \n",
    "        for img_name in os.listdir(img_dir):\n",
    "            if img_name.endswith(\".png\"):\n",
    "                data.append({\n",
    "                    \"image_path\": os.path.join(img_dir, img_name),\n",
    "                    \"label\": cls\n",
    "                })\n",
    "    \n",
    "    if not data:\n",
    "        raise FileNotFoundError(f\"No PNG images found in {data_path}. Check your path and structure.\")\n",
    "        \n",
    "    return pd.DataFrame(data)"
   ],
   "id": "bf4e297d834742cd",
   "outputs": [],
   "execution_count": 8
  },
  {
   "metadata": {
    "ExecuteTime": {
     "end_time": "2025-10-28T06:59:28.078384Z",
     "start_time": "2025-10-28T06:59:28.073369Z"
    }
   },
   "cell_type": "code",
   "source": [
    "def get_class_weights(dataframe):\n",
    "    \"\"\"\n",
    "    Calculate inverse class weights for the loss function.\n",
    "    \"\"\"\n",
    "    class_counts = dataframe['label'].value_counts().sort_index()\n",
    "    class_map = {\"normal\": 0, \"benign\": 1, \"malignant\": 2}\n",
    "    \n",
    "    # Ensure correct order\n",
    "    counts = [class_counts.get(cls, 1) for cls in class_map.keys()] # 1 to prevent division by zero\n",
    "    \n",
    "    total = sum(counts)\n",
    "    weights = [total / (len(counts) * count) for count in counts]\n",
    "    \n",
    "    # Normalize weights\n",
    "    weights_tensor = torch.tensor(weights, dtype=torch.float32).to(cfg.DEVICE)\n",
    "    print(f\"Class Counts: {counts}\")\n",
    "    print(f\"Calculated Weights: {weights_tensor}\")\n",
    "    return weights_tensor"
   ],
   "id": "ac624b7af318bd88",
   "outputs": [],
   "execution_count": 9
  },
  {
   "metadata": {
    "ExecuteTime": {
     "end_time": "2025-10-28T07:36:03.959686Z",
     "start_time": "2025-10-28T07:29:30.457362Z"
    }
   },
   "cell_type": "code",
   "source": [
    "# --- 3. Define VLM (CLIP) Model and Logic ---\n",
    "\n",
    "# Load CLIP model and its preprocessing function\n",
    "print(f\"Loading CLIP model: {cfg.CLIP_MODEL} on {cfg.DEVICE}\")\n",
    "clip_model, preprocess = clip.load(cfg.CLIP_MODEL, device=cfg.DEVICE)\n",
    "\n",
    "device = \"cuda\" if torch.cuda.is_available() else \"cpu\"\n",
    "model, preprocess = clip.load(\"ViT-B/32\", device=device)"
   ],
   "id": "b994a8b5996f4fa8",
   "outputs": [],
   "execution_count": null
  },
  {
   "metadata": {
    "ExecuteTime": {
     "end_time": "2025-10-28T07:46:31.352241Z",
     "start_time": "2025-10-28T07:46:31.297240Z"
    }
   },
   "cell_type": "code",
   "source": [
    "image = preprocess(Image.open(r\"train/benign/images/benign (1).png\")).unsqueeze(0).to(device)\n",
    "\n",
    "# This section is the core of the VLM\n",
    "# Define Text Prompts\n",
    "text_prompts = [\n",
    "    \"An x-ray image of a normal case without a mass\",\n",
    "    \"An x-ray image containing a benign mass\",\n",
    "    \"An x-ray image containing a malignant mass\"\n",
    "]\n",
    "\n",
    "# Tokenize texts and send to device\n",
    "text_inputs = clip.tokenize(text_prompts).to(cfg.DEVICE)"
   ],
   "id": "4c20934f7e1c78d2",
   "outputs": [],
   "execution_count": 16
  },
  {
   "metadata": {
    "ExecuteTime": {
     "end_time": "2025-10-28T07:46:37.074185Z",
     "start_time": "2025-10-28T07:46:37.068159Z"
    }
   },
   "cell_type": "code",
   "source": [
    "# --- 4. Training and Validation Functions ---\n",
    "\n",
    "def train_one_epoch(model, dataloader, criterion, optimizer, text_features):\n",
    "    model.train()\n",
    "    running_loss = 0.0\n",
    "    all_preds = []\n",
    "    all_labels = []\n",
    "\n",
    "    pbar = tqdm(dataloader, desc=\"Training Epoch\")\n",
    "    for images, labels in pbar:\n",
    "        # Remove corrupted images (which have label -1)\n",
    "        valid_indices = labels != -1\n",
    "        if not valid_indices.any():\n",
    "            continue\n",
    "        \n",
    "        images = images[valid_indices].to(cfg.DEVICE)\n",
    "        labels = labels[valid_indices].to(cfg.DEVICE)\n",
    "\n",
    "        optimizer.zero_grad()\n",
    "\n",
    "        # Extract image features\n",
    "        image_features = model.encode_image(images)\n",
    "        \n",
    "        # Normalize features (CLIP standard)\n",
    "        image_features = image_features / image_features.norm(dim=-1, keepdim=True)\n",
    "\n",
    "        # Calculate similarity (logits)\n",
    "        # logit_scale is a learnable parameter in the CLIP model\n",
    "        logit_scale = model.logit_scale.exp()\n",
    "        logits_per_image = logit_scale * image_features @ text_features.T\n",
    "        \n",
    "        # Calculate loss\n",
    "        loss = criterion(logits_per_image, labels)\n",
    "        \n",
    "        loss.backward()\n",
    "        optimizer.step()\n",
    "\n",
    "        running_loss += loss.item() * images.size(0)\n",
    "        \n",
    "        # Store predictions and labels for F1\n",
    "        preds = logits_per_image.argmax(dim=1)\n",
    "        all_preds.extend(preds.cpu().numpy())\n",
    "        all_labels.extend(labels.cpu().numpy())\n",
    "        \n",
    "        pbar.set_postfix(loss=loss.item())\n",
    "\n",
    "    epoch_loss = running_loss / len(dataloader.dataset)\n",
    "    epoch_f1_weighted = f1_score(all_labels, all_preds, average='weighted')\n",
    "    epoch_f1_macro = f1_score(all_labels, all_preds, average='macro')\n",
    "    \n",
    "    return epoch_loss, epoch_f1_weighted, epoch_f1_macro"
   ],
   "id": "c303070036a5f88f",
   "outputs": [],
   "execution_count": 17
  },
  {
   "metadata": {
    "ExecuteTime": {
     "end_time": "2025-10-28T07:46:38.142266Z",
     "start_time": "2025-10-28T07:46:38.136056Z"
    }
   },
   "cell_type": "code",
   "source": [
    "def validate(model, dataloader, criterion, text_features):\n",
    "    model.eval()\n",
    "    running_loss = 0.0\n",
    "    all_preds = []\n",
    "    all_labels = []\n",
    "\n",
    "    with torch.no_grad():\n",
    "        pbar = tqdm(dataloader, desc=\"Validating\")\n",
    "        for images, labels in pbar:\n",
    "            valid_indices = labels != -1\n",
    "            if not valid_indices.any():\n",
    "                continue\n",
    "\n",
    "            images = images[valid_indices].to(cfg.DEVICE)\n",
    "            labels = labels[valid_indices].to(cfg.DEVICE)\n",
    "            \n",
    "            # Extract features\n",
    "            image_features = model.encode_image(images)\n",
    "            image_features = image_features / image_features.norm(dim=-1, keepdim=True)\n",
    "            \n",
    "            # Calculate logits\n",
    "            logit_scale = model.logit_scale.exp()\n",
    "            logits_per_image = logit_scale * image_features @ text_features.T\n",
    "            \n",
    "            loss = criterion(logits_per_image, labels)\n",
    "            running_loss += loss.item() * images.size(0)\n",
    "\n",
    "            preds = logits_per_image.argmax(dim=1)\n",
    "            all_preds.extend(preds.cpu().numpy())\n",
    "            all_labels.extend(labels.cpu().numpy())\n",
    "\n",
    "    epoch_loss = running_loss / len(dataloader.dataset)\n",
    "    epoch_f1_weighted = f1_score(all_labels, all_preds, average='weighted', zero_division=0)\n",
    "    epoch_f1_macro = f1_score(all_labels, all_preds, average='macro', zero_division=0)\n",
    "    \n",
    "    # Full report\n",
    "    report = classification_report(all_labels, all_preds, target_names=[\"normal\", \"benign\", \"malignant\"], zero_division=0)\n",
    "    \n",
    "    return epoch_loss, epoch_f1_weighted, epoch_f1_macro, report\n"
   ],
   "id": "f1e7441025c96fdf",
   "outputs": [],
   "execution_count": 18
  },
  {
   "metadata": {
    "ExecuteTime": {
     "end_time": "2025-10-28T07:50:09.683674Z",
     "start_time": "2025-10-28T07:50:09.600499Z"
    }
   },
   "cell_type": "code",
   "source": [
    "# --- 5. Main Execution Loop ---\n",
    "\n",
    "print(\"Starting data preparation...\")\n",
    "\n",
    "# 1. Prepare DataFrame\n",
    "full_df = prepare_dataframe(cfg.DATA_PATH)\n",
    "print(f\"Total images found: {len(full_df)}\")\n",
    "print(full_df['label'].value_counts())\n",
    "\n",
    "# 2. Split data into Train and Validation\n",
    "val_size = int(len(full_df) * cfg.VALIDATION_SPLIT)\n",
    "train_size = len(full_df) - val_size\n",
    "train_df, val_df = random_split(full_df, [train_size, val_size])\n",
    "\n",
    "# Convert subsets to Dataset\n",
    "train_dataset = XRayDataset(train_df.dataset.iloc[train_df.indices], preprocess)\n",
    "val_dataset = XRayDataset(val_df.dataset.iloc[val_df.indices], preprocess)\n",
    "\n",
    "print(f\"Train size: {len(train_dataset)}, Validation size: {len(val_dataset)}\")\n",
    "\n",
    "# 3. Create DataLoaders\n",
    "train_loader = DataLoader(train_dataset, batch_size=cfg.BATCH_SIZE, shuffle=True, num_workers=0)\n",
    "val_loader = DataLoader(val_dataset, batch_size=cfg.BATCH_SIZE, shuffle=False, num_workers=0)\n",
    "# Note: This slows down data loading, but solves the multiprocessing issue.\n",
    "\n",
    "# 4. Calculate class weights (based on training data)\n",
    "print(\"Calculating class weights...\")\n",
    "class_weights = get_class_weights(train_df.dataset.iloc[train_df.indices])\n",
    "\n",
    "# 5. Define Loss Function and Optimizer\n",
    "# Use calculated weights to handle imbalance\n",
    "criterion = nn.CrossEntropyLoss(weight=class_weights)\n",
    "optimizer = optim.Adam(clip_model.parameters(), lr=cfg.LEARNING_RATE)\n",
    "\n",
    "# Extract text features only once (since texts are constant)\n",
    "with torch.no_grad():\n",
    "    text_features = clip_model.encode_text(text_inputs)\n",
    "    text_features = text_features / text_features.norm(dim=-1, keepdim=True)"
   ],
   "id": "ae178ce6cbd2b217",
   "outputs": [
    {
     "name": "stdout",
     "output_type": "stream",
     "text": [
      "Starting data preparation...\n",
      "Total images found: 624\n",
      "label\n",
      "benign       350\n",
      "malignant    168\n",
      "normal       106\n",
      "Name: count, dtype: int64\n",
      "Train size: 500, Validation size: 124\n",
      "Calculating class weights...\n",
      "Class Counts: [84, 281, 135]\n",
      "Calculated Weights: tensor([1.9841, 0.5931, 1.2346])\n"
     ]
    }
   ],
   "execution_count": 25
  },
  {
   "metadata": {
    "ExecuteTime": {
     "end_time": "2025-10-28T07:55:40.712760Z",
     "start_time": "2025-10-28T07:50:10.534051Z"
    }
   },
   "cell_type": "code",
   "source": [
    "# 6. Training and Validation Loop\n",
    "best_f1 = 0.0\n",
    "print(\"Starting model training...\")\n",
    "for epoch in range(cfg.EPOCHS):\n",
    "    print(f\"\\n--- Epoch {epoch+1}/{cfg.EPOCHS} ---\")\n",
    "    \n",
    "    train_loss, train_f1_w, train_f1_m = train_one_epoch(clip_model, train_loader, criterion, optimizer, text_features)\n",
    "    print(f\"Train Loss: {train_loss:.4f} | Weighted F1: {train_f1_w:.4f} | Macro F1: {train_f1_m:.4f}\")\n",
    "\n",
    "    val_loss, val_f1_w, val_f1_m, report = validate(clip_model, val_loader, criterion, text_features)\n",
    "    print(f\"Valid Loss: {val_loss:.4f} | Weighted F1: {val_f1_w:.4f} | Macro F1: {val_f1_m:.4f}\")\n",
    "    \n",
    "    # Save the best model based on Macro F1 (as it gives importance to minority classes)\n",
    "    if val_f1_m > best_f1:\n",
    "        best_f1 = val_f1_m\n",
    "        torch.save(clip_model.state_dict(), \"best_clip_classifier.pth\")\n",
    "        print(f\"New best model saved with Macro F1: {best_f1:.4f}\")\n",
    "        \n",
    "print(\"\\nTraining Finished.\")\n",
    "print(f\"Best Validation Macro F1 Score: {best_f1:.4f}\")\n",
    "\n",
    "# Load the best model and display the final report\n",
    "print(\"\\nLoading best model for final report on validation set...\")\n",
    "clip_model.load_state_dict(torch.load(\"best_clip_classifier.pth\"))\n",
    "_, _, _, final_report = validate(clip_model, val_loader, criterion, text_features)\n",
    "print(\"--- Final Validation Report ---\")\n",
    "print(final_report)"
   ],
   "id": "87725a0e18a52ef7",
   "outputs": [
    {
     "name": "stdout",
     "output_type": "stream",
     "text": [
      "Starting model training...\n",
      "\n",
      "--- Epoch 1/10 ---\n"
     ]
    },
    {
     "name": "stderr",
     "output_type": "stream",
     "text": [
      "Training Epoch: 100%|██████████| 16/16 [00:28<00:00,  1.79s/it, loss=0.695]\n"
     ]
    },
    {
     "name": "stdout",
     "output_type": "stream",
     "text": [
      "Train Loss: 0.9662 | Weighted F1: 0.5048 | Macro F1: 0.4900\n"
     ]
    },
    {
     "name": "stderr",
     "output_type": "stream",
     "text": [
      "Validating: 100%|██████████| 4/4 [00:02<00:00,  1.44it/s]\n"
     ]
    },
    {
     "name": "stdout",
     "output_type": "stream",
     "text": [
      "Valid Loss: 0.8811 | Weighted F1: 0.6584 | Macro F1: 0.6277\n",
      "New best model saved with Macro F1: 0.6277\n",
      "\n",
      "--- Epoch 2/10 ---\n"
     ]
    },
    {
     "name": "stderr",
     "output_type": "stream",
     "text": [
      "Training Epoch: 100%|██████████| 16/16 [00:27<00:00,  1.69s/it, loss=0.549]\n"
     ]
    },
    {
     "name": "stdout",
     "output_type": "stream",
     "text": [
      "Train Loss: 0.4476 | Weighted F1: 0.8172 | Macro F1: 0.8124\n"
     ]
    },
    {
     "name": "stderr",
     "output_type": "stream",
     "text": [
      "Validating: 100%|██████████| 4/4 [00:02<00:00,  1.48it/s]\n"
     ]
    },
    {
     "name": "stdout",
     "output_type": "stream",
     "text": [
      "Valid Loss: 0.5597 | Weighted F1: 0.7689 | Macro F1: 0.7564\n",
      "New best model saved with Macro F1: 0.7564\n",
      "\n",
      "--- Epoch 3/10 ---\n"
     ]
    },
    {
     "name": "stderr",
     "output_type": "stream",
     "text": [
      "Training Epoch: 100%|██████████| 16/16 [00:26<00:00,  1.68s/it, loss=0.257]\n"
     ]
    },
    {
     "name": "stdout",
     "output_type": "stream",
     "text": [
      "Train Loss: 0.2839 | Weighted F1: 0.8851 | Macro F1: 0.8742\n"
     ]
    },
    {
     "name": "stderr",
     "output_type": "stream",
     "text": [
      "Validating: 100%|██████████| 4/4 [00:02<00:00,  1.47it/s]\n"
     ]
    },
    {
     "name": "stdout",
     "output_type": "stream",
     "text": [
      "Valid Loss: 0.7893 | Weighted F1: 0.7316 | Macro F1: 0.7210\n",
      "\n",
      "--- Epoch 4/10 ---\n"
     ]
    },
    {
     "name": "stderr",
     "output_type": "stream",
     "text": [
      "Training Epoch: 100%|██████████| 16/16 [00:29<00:00,  1.82s/it, loss=0.0982]\n"
     ]
    },
    {
     "name": "stdout",
     "output_type": "stream",
     "text": [
      "Train Loss: 0.2109 | Weighted F1: 0.9263 | Macro F1: 0.9248\n"
     ]
    },
    {
     "name": "stderr",
     "output_type": "stream",
     "text": [
      "Validating: 100%|██████████| 4/4 [00:03<00:00,  1.07it/s]\n"
     ]
    },
    {
     "name": "stdout",
     "output_type": "stream",
     "text": [
      "Valid Loss: 0.5924 | Weighted F1: 0.7996 | Macro F1: 0.7793\n",
      "New best model saved with Macro F1: 0.7793\n",
      "\n",
      "--- Epoch 5/10 ---\n"
     ]
    },
    {
     "name": "stderr",
     "output_type": "stream",
     "text": [
      "Training Epoch: 100%|██████████| 16/16 [00:35<00:00,  2.23s/it, loss=0.112] \n"
     ]
    },
    {
     "name": "stdout",
     "output_type": "stream",
     "text": [
      "Train Loss: 0.1254 | Weighted F1: 0.9501 | Macro F1: 0.9525\n"
     ]
    },
    {
     "name": "stderr",
     "output_type": "stream",
     "text": [
      "Validating: 100%|██████████| 4/4 [00:03<00:00,  1.13it/s]\n"
     ]
    },
    {
     "name": "stdout",
     "output_type": "stream",
     "text": [
      "Valid Loss: 0.7833 | Weighted F1: 0.8010 | Macro F1: 0.7738\n",
      "\n",
      "--- Epoch 6/10 ---\n"
     ]
    },
    {
     "name": "stderr",
     "output_type": "stream",
     "text": [
      "Training Epoch: 100%|██████████| 16/16 [00:26<00:00,  1.67s/it, loss=0.155] \n"
     ]
    },
    {
     "name": "stdout",
     "output_type": "stream",
     "text": [
      "Train Loss: 0.0532 | Weighted F1: 0.9760 | Macro F1: 0.9782\n"
     ]
    },
    {
     "name": "stderr",
     "output_type": "stream",
     "text": [
      "Validating: 100%|██████████| 4/4 [00:02<00:00,  1.49it/s]\n"
     ]
    },
    {
     "name": "stdout",
     "output_type": "stream",
     "text": [
      "Valid Loss: 0.4952 | Weighted F1: 0.8475 | Macro F1: 0.8382\n",
      "New best model saved with Macro F1: 0.8382\n",
      "\n",
      "--- Epoch 7/10 ---\n"
     ]
    },
    {
     "name": "stderr",
     "output_type": "stream",
     "text": [
      "Training Epoch: 100%|██████████| 16/16 [00:26<00:00,  1.68s/it, loss=0.0181] \n"
     ]
    },
    {
     "name": "stdout",
     "output_type": "stream",
     "text": [
      "Train Loss: 0.0336 | Weighted F1: 0.9920 | Macro F1: 0.9927\n"
     ]
    },
    {
     "name": "stderr",
     "output_type": "stream",
     "text": [
      "Validating: 100%|██████████| 4/4 [00:02<00:00,  1.50it/s]\n"
     ]
    },
    {
     "name": "stdout",
     "output_type": "stream",
     "text": [
      "Valid Loss: 0.5324 | Weighted F1: 0.8330 | Macro F1: 0.8121\n",
      "\n",
      "--- Epoch 8/10 ---\n"
     ]
    },
    {
     "name": "stderr",
     "output_type": "stream",
     "text": [
      "Training Epoch: 100%|██████████| 16/16 [00:32<00:00,  2.04s/it, loss=0.00813]\n"
     ]
    },
    {
     "name": "stdout",
     "output_type": "stream",
     "text": [
      "Train Loss: 0.0266 | Weighted F1: 0.9900 | Macro F1: 0.9909\n"
     ]
    },
    {
     "name": "stderr",
     "output_type": "stream",
     "text": [
      "Validating: 100%|██████████| 4/4 [00:03<00:00,  1.08it/s]\n"
     ]
    },
    {
     "name": "stdout",
     "output_type": "stream",
     "text": [
      "Valid Loss: 0.5779 | Weighted F1: 0.8394 | Macro F1: 0.8273\n",
      "\n",
      "--- Epoch 9/10 ---\n"
     ]
    },
    {
     "name": "stderr",
     "output_type": "stream",
     "text": [
      "Training Epoch: 100%|██████████| 16/16 [00:32<00:00,  2.04s/it, loss=0.00553]\n"
     ]
    },
    {
     "name": "stdout",
     "output_type": "stream",
     "text": [
      "Train Loss: 0.0166 | Weighted F1: 0.9920 | Macro F1: 0.9927\n"
     ]
    },
    {
     "name": "stderr",
     "output_type": "stream",
     "text": [
      "Validating: 100%|██████████| 4/4 [00:02<00:00,  1.46it/s]\n"
     ]
    },
    {
     "name": "stdout",
     "output_type": "stream",
     "text": [
      "Valid Loss: 0.6670 | Weighted F1: 0.8394 | Macro F1: 0.8247\n",
      "\n",
      "--- Epoch 10/10 ---\n"
     ]
    },
    {
     "name": "stderr",
     "output_type": "stream",
     "text": [
      "Training Epoch: 100%|██████████| 16/16 [00:28<00:00,  1.77s/it, loss=0.00264]\n"
     ]
    },
    {
     "name": "stdout",
     "output_type": "stream",
     "text": [
      "Train Loss: 0.0192 | Weighted F1: 0.9960 | Macro F1: 0.9963\n"
     ]
    },
    {
     "name": "stderr",
     "output_type": "stream",
     "text": [
      "Validating: 100%|██████████| 4/4 [00:02<00:00,  1.44it/s]\n"
     ]
    },
    {
     "name": "stdout",
     "output_type": "stream",
     "text": [
      "Valid Loss: 0.6685 | Weighted F1: 0.7935 | Macro F1: 0.7760\n",
      "\n",
      "Training Finished.\n",
      "Best Validation Macro F1 Score: 0.8382\n",
      "\n",
      "Loading best model for final report on validation set...\n"
     ]
    },
    {
     "name": "stderr",
     "output_type": "stream",
     "text": [
      "Validating: 100%|██████████| 4/4 [00:02<00:00,  1.45it/s]"
     ]
    },
    {
     "name": "stdout",
     "output_type": "stream",
     "text": [
      "--- Final Validation Report ---\n",
      "              precision    recall  f1-score   support\n",
      "\n",
      "      normal       0.72      0.95      0.82        22\n",
      "      benign       0.89      0.84      0.87        69\n",
      "   malignant       0.87      0.79      0.83        33\n",
      "\n",
      "    accuracy                           0.85       124\n",
      "   macro avg       0.83      0.86      0.84       124\n",
      "weighted avg       0.86      0.85      0.85       124\n",
      "\n"
     ]
    },
    {
     "name": "stderr",
     "output_type": "stream",
     "text": [
      "\n"
     ]
    }
   ],
   "execution_count": 26
  },
  {
   "metadata": {
    "ExecuteTime": {
     "end_time": "2025-10-28T09:23:02.461179Z",
     "start_time": "2025-10-28T09:22:58.302470Z"
    }
   },
   "cell_type": "code",
   "source": [
    "# --- 7. Predict on Test Data and Create Submission File ---\n",
    "\n",
    "# 1. Load Test DataFrame\n",
    "test_df_raw = pd.read_csv('test/test.csv')\n",
    "TEST_IMAGE_DIR = 'test/images/'\n",
    "\n",
    "# 2. Prepare Test DataFrame (including full image path)\n",
    "test_data = []\n",
    "for img_name in test_df_raw['image']:\n",
    "    test_data.append({\n",
    "        \"image_path\": os.path.join(TEST_IMAGE_DIR, img_name),\n",
    "        \"label\": \"unknown\" # unknown label\n",
    "    })\n",
    "test_full_df = pd.DataFrame(test_data)\n",
    "\n",
    "# 3. Define Test Dataset and DataLoader\n",
    "class TestXRayDataset(Dataset):\n",
    "    def __init__(self, dataframe, preprocess):\n",
    "        self.df = dataframe\n",
    "        self.preprocess = preprocess\n",
    "\n",
    "    def __len__(self):\n",
    "        return len(self.df)\n",
    "\n",
    "    def __getitem__(self, idx):\n",
    "        row = self.df.iloc[idx]\n",
    "        image_path = row['image_path']\n",
    "        \n",
    "        try:\n",
    "            image = Image.open(image_path).convert(\"RGB\")\n",
    "            image_tensor = self.preprocess(image)\n",
    "            return image_tensor\n",
    "        except Exception as e:\n",
    "            print(f\"Error loading test image {image_path}: {e}\")\n",
    "            return torch.zeros((3, 224, 224))\n",
    "\n",
    "test_dataset = TestXRayDataset(test_full_df, preprocess)\n",
    "test_loader = DataLoader(test_dataset, batch_size=cfg.BATCH_SIZE, shuffle=False, num_workers=0)\n",
    "\n",
    "\n",
    "# 4. Run Prediction (Inference)\n",
    "clip_model.eval()\n",
    "all_predictions = []\n",
    "\n",
    "print(\"\\nStarting Test Data Prediction...\")\n",
    "\n",
    "with torch.no_grad():\n",
    "    for images in tqdm(test_loader, desc=\"Predicting\"):\n",
    "        images = images.to(cfg.DEVICE)\n",
    "        \n",
    "        # Extract features\n",
    "        image_features = clip_model.encode_image(images)\n",
    "        image_features = image_features / image_features.norm(dim=-1, keepdim=True)\n",
    "        \n",
    "        # Calculate logits\n",
    "        logit_scale = clip_model.logit_scale.exp()\n",
    "        logits_per_image = logit_scale * image_features @ text_features.T\n",
    "        \n",
    "        preds = logits_per_image.argmax(dim=1)\n",
    "        all_predictions.extend(preds.cpu().numpy())\n",
    "\n",
    "# 5. Convert predictions to One-Hot and create final DataFrame\n",
    "idx_to_class = {0: 'normal', 1: 'benign', 2: 'malignant'}\n",
    "predictions_one_hot = np.zeros((len(all_predictions), 3), dtype=int)\n",
    "\n",
    "for i, pred_idx in enumerate(all_predictions):\n",
    "    if pred_idx == 0:\n",
    "        predictions_one_hot[i, 0] = 1 # normal\n",
    "    elif pred_idx == 1:\n",
    "        predictions_one_hot[i, 2] = 1 # benign (Note the order of the output columns)\n",
    "    elif pred_idx == 2:\n",
    "        predictions_one_hot[i, 1] = 1 # malignant\n",
    "\n",
    "# Create final DataFrame\n",
    "submission = pd.DataFrame({\n",
    "    'image': test_df_raw['image'],\n",
    "    'class_benign': predictions_one_hot[:, 2],\n",
    "    'class_malignant': predictions_one_hot[:, 1],\n",
    "    'class_normal': predictions_one_hot[:, 0]\n",
    "    \n",
    "})\n",
    "\n",
    "print(\"\\nSubmission DataFrame created successfully.\")\n",
    "print(submission.head())"
   ],
   "id": "62ce55636435722c",
   "outputs": [
    {
     "name": "stdout",
     "output_type": "stream",
     "text": [
      "\n",
      "Starting Test Data Prediction...\n"
     ]
    },
    {
     "data": {
      "text/plain": [
       "Predicting:   0%|          | 0/5 [00:00<?, ?it/s]"
      ],
      "application/vnd.jupyter.widget-view+json": {
       "version_major": 2,
       "version_minor": 0,
       "model_id": "a5cde37df66d4ebf96a1a5e9d74202e1"
      }
     },
     "metadata": {},
     "output_type": "display_data"
    },
    {
     "name": "stdout",
     "output_type": "stream",
     "text": [
      "\n",
      "Submission DataFrame created successfully.\n",
      "           image  class_benign  class_malignant  class_normal\n",
      "0  test_0001.png             0                0             1\n",
      "1  test_0002.png             1                0             0\n",
      "2  test_0003.png             0                1             0\n",
      "3  test_0004.png             1                0             0\n",
      "4  test_0005.png             0                1             0\n"
     ]
    }
   ],
   "execution_count": 73
  },
  {
   "metadata": {
    "ExecuteTime": {
     "end_time": "2025-10-28T08:03:59.150708Z",
     "start_time": "2025-10-28T08:03:59.134773Z"
    }
   },
   "cell_type": "code",
   "source": "submission",
   "id": "6717d8f0abb7883e",
   "outputs": [
    {
     "data": {
      "text/plain": [
       "             image  class_normal  class_malignant  class_benign\n",
       "0    test_0001.png             1                0             0\n",
       "1    test_0002.png             0                0             1\n",
       "2    test_0003.png             0                1             0\n",
       "3    test_0004.png             0                0             1\n",
       "4    test_0005.png             0                1             0\n",
       "..             ...           ...              ...           ...\n",
       "151  test_0152.png             1                0             0\n",
       "152  test_0153.png             0                1             0\n",
       "153  test_0154.png             0                1             0\n",
       "154  test_0155.png             0                0             1\n",
       "155  test_0156.png             0                0             1\n",
       "\n",
       "[156 rows x 4 columns]"
      ],
      "text/html": [
       "<div>\n",
       "<style scoped>\n",
       "    .dataframe tbody tr th:only-of-type {\n",
       "        vertical-align: middle;\n",
       "    }\n",
       "\n",
       "    .dataframe tbody tr th {\n",
       "        vertical-align: top;\n",
       "    }\n",
       "\n",
       "    .dataframe thead th {\n",
       "        text-align: right;\n",
       "    }\n",
       "</style>\n",
       "<table border=\"1\" class=\"dataframe\">\n",
       "  <thead>\n",
       "    <tr style=\"text-align: right;\">\n",
       "      <th></th>\n",
       "      <th>image</th>\n",
       "      <th>class_normal</th>\n",
       "      <th>class_malignant</th>\n",
       "      <th>class_benign</th>\n",
       "    </tr>\n",
       "  </thead>\n",
       "  <tbody>\n",
       "    <tr>\n",
       "      <th>0</th>\n",
       "      <td>test_0001.png</td>\n",
       "      <td>1</td>\n",
       "      <td>0</td>\n",
       "      <td>0</td>\n",
       "    </tr>\n",
       "    <tr>\n",
       "      <th>1</th>\n",
       "      <td>test_0002.png</td>\n",
       "      <td>0</td>\n",
       "      <td>0</td>\n",
       "      <td>1</td>\n",
       "    </tr>\n",
       "    <tr>\n",
       "      <th>2</th>\n",
       "      <td>test_0003.png</td>\n",
       "      <td>0</td>\n",
       "      <td>1</td>\n",
       "      <td>0</td>\n",
       "    </tr>\n",
       "    <tr>\n",
       "      <th>3</th>\n",
       "      <td>test_0004.png</td>\n",
       "      <td>0</td>\n",
       "      <td>0</td>\n",
       "      <td>1</td>\n",
       "    </tr>\n",
       "    <tr>\n",
       "      <th>4</th>\n",
       "      <td>test_0005.png</td>\n",
       "      <td>0</td>\n",
       "      <td>1</td>\n",
       "      <td>0</td>\n",
       "    </tr>\n",
       "    <tr>\n",
       "      <th>...</th>\n",
       "      <td>...</td>\n",
       "      <td>...</td>\n",
       "      <td>...</td>\n",
       "      <td>...</td>\n",
       "    </tr>\n",
       "    <tr>\n",
       "      <th>151</th>\n",
       "      <td>test_0152.png</td>\n",
       "      <td>1</td>\n",
       "      <td>0</td>\n",
       "      <td>0</td>\n",
       "    </tr>\n",
       "    <tr>\n",
       "      <th>152</th>\n",
       "      <td>test_0153.png</td>\n",
       "      <td>0</td>\n",
       "      <td>1</td>\n",
       "      <td>0</td>\n",
       "    </tr>\n",
       "    <tr>\n",
       "      <th>153</th>\n",
       "      <td>test_0154.png</td>\n",
       "      <td>0</td>\n",
       "      <td>1</td>\n",
       "      <td>0</td>\n",
       "    </tr>\n",
       "    <tr>\n",
       "      <th>154</th>\n",
       "      <td>test_0155.png</td>\n",
       "      <td>0</td>\n",
       "      <td>0</td>\n",
       "      <td>1</td>\n",
       "    </tr>\n",
       "    <tr>\n",
       "      <th>155</th>\n",
       "      <td>test_0156.png</td>\n",
       "      <td>0</td>\n",
       "      <td>0</td>\n",
       "      <td>1</td>\n",
       "    </tr>\n",
       "  </tbody>\n",
       "</table>\n",
       "<p>156 rows × 4 columns</p>\n",
       "</div>"
      ]
     },
     "execution_count": 31,
     "metadata": {},
     "output_type": "execute_result"
    }
   ],
   "execution_count": 31
  },
  {
   "cell_type": "markdown",
   "id": "740a5756",
   "metadata": {},
   "source": [
    "<h2 dir=ltr align=left style=\"line-height:200%;font-family:sans-serif;color:#0099cc\">\n",
    "<font face=\"sans-serif\" color=\"#0099cc\">\n",
    "Evaluation Metric\n",
    "</font>\n",
    "</h2>\n",
    "\n",
    "<p dir=ltr style=\"direction: ltr; text-align: justify; line-height:200%; font-family:sans-serif; font-size:medium\">\n",
    "<font face=\"sans-serif\" size=3>\n",
    "    The metric we have chosen to evaluate the model's performance is called <code>F1_score</code>.\n",
    "    <br>\n",
    "    This metric is the standard for evaluating your model's quality. In other words, the judging system also uses this metric for scoring.\n",
    "    <br>\n",
    "    It is recommended to evaluate your model's performance on the training or validation set using this metric.\n",
    "</font>\n",
    "</p>\n",
    "\n",
    "<p dir=ltr style=\"direction: ltr; text-align: justify; line-height:200%; font-family:sans-serif; font-size:medium\">\n",
    "</font>\n",
    "</p>"
   ]
  },
  {
   "cell_type": "code",
   "id": "82bb3325",
   "metadata": {
    "ExecuteTime": {
     "end_time": "2025-10-28T08:25:00.141113Z",
     "start_time": "2025-10-28T08:25:00.117480Z"
    }
   },
   "source": [
    "# --- Configuration for Segmentation ---\n",
    "class SegConfig:\n",
    "    DEVICE = 'cuda' if torch.cuda.is_available() else 'cpu'\n",
    "    IMAGE_SIZE = 256\n",
    "    ORIGINAL_SIZE = 500\n",
    "    BATCH_SIZE = 8\n",
    "    LEARNING_RATE = 1e-4\n",
    "    NUM_EPOCHS = 20\n",
    "    BACKBONE = 'resnet34' # U-Net model Encoder\n",
    "    ACTIVATION = 'sigmoid' # For binary mask output (0 to 1)\n",
    "\n",
    "seg_cfg = SegConfig()\n",
    "print(f\"Segmentation running on: {seg_cfg.DEVICE}\")\n",
    "\n",
    "# --- Helper functions explained in the previous guide ---\n",
    "\n",
    "# 1. Path collection function\n",
    "def create_seg_dataframe(base_dir='initial/train'):\n",
    "    data = []\n",
    "    classes = ['benign', 'malignant', 'normal']\n",
    "    for cls in classes:\n",
    "        image_dir = os.path.join(base_dir, cls, 'images')\n",
    "        mask_dir = os.path.join(base_dir, cls, 'masks')\n",
    "        image_paths = glob.glob(os.path.join(image_dir, '*.png'))\n",
    "        \n",
    "        for img_path in image_paths:\n",
    "            img_name = os.path.basename(img_path)\n",
    "            if cls == 'normal':\n",
    "                mask_path = None # All-black mask\n",
    "            else:\n",
    "                base_name = os.path.splitext(img_name)[0]\n",
    "                mask_path = os.path.join(mask_dir, f\"{base_name}_mask.png\")\n",
    "            \n",
    "            data.append({'image_path': img_path, 'mask_path': mask_path, 'class': cls})\n",
    "    return pd.DataFrame(data)\n",
    "\n",
    "# 2. Dataset class for segmentation\n",
    "class SegmentationXRayDataset(Dataset):\n",
    "    def __init__(self, dataframe, transform=None):\n",
    "        self.df = dataframe\n",
    "        self.transform = transform\n",
    "\n",
    "    def __len__(self):\n",
    "        return len(self.df)\n",
    "\n",
    "    def __getitem__(self, idx):\n",
    "        row = self.df.iloc[idx]\n",
    "        # Load images as NumPy arrays so Albumentations can process them\n",
    "        image = np.array(Image.open(row['image_path']).convert(\"RGB\"))\n",
    "\n",
    "        if row['class'] == 'normal' or row['mask_path'] is None:\n",
    "            # Create an all-black mask (0) for normal or test images\n",
    "            mask = np.zeros(image.shape[:2], dtype=np.uint8)\n",
    "        else:\n",
    "            # Load mask and ensure it is only 0 and 1\n",
    "            mask = np.array(Image.open(row['mask_path']).convert(\"L\"))\n",
    "            mask[mask > 0] = 1 # Tumor white (1), background black (0)\n",
    "\n",
    "        # Apply transformations (simultaneously on image and mask)\n",
    "        if self.transform:\n",
    "            augmented = self.transform(image=image, mask=mask)\n",
    "            image = augmented['image']\n",
    "            mask = augmented['mask']\n",
    "        \n",
    "        # Output: RGB image (3 channels) and binary mask (1 channel)\n",
    "        return image, mask.float().unsqueeze(0) \n",
    "\n",
    "# 3. Define Combined Loss (Dice + BCE)\n",
    "class DiceLoss(nn.Module):\n",
    "    # (Implementation provided in previous cells)\n",
    "    def __init__(self, smooth=1e-6):\n",
    "        super(DiceLoss, self).__init__()\n",
    "        self.smooth = smooth\n",
    "    def forward(self, inputs, targets):\n",
    "        inputs = inputs.view(-1)\n",
    "        targets = targets.view(-1)\n",
    "        intersection = (inputs * targets).sum()\n",
    "        dice = (2. * intersection + self.smooth) / (inputs.sum() + targets.sum() + self.smooth)\n",
    "        return 1 - dice\n",
    "\n",
    "class CombinedLoss(nn.Module):\n",
    "    def __init__(self, weight=0.5):\n",
    "        super(CombinedLoss, self).__init__()\n",
    "        self.bce = nn.BCEWithLogitsLoss()\n",
    "        self.dice = DiceLoss()\n",
    "        self.weight = weight \n",
    "\n",
    "    def forward(self, inputs, targets):\n",
    "        # BCEWithLogitsLoss uses raw output (Logits)\n",
    "        bce_loss = self.bce(inputs, targets) \n",
    "        # Dice Loss uses Sigmoid output\n",
    "        dice_loss = self.dice(torch.sigmoid(inputs), targets)\n",
    "        return self.weight * bce_loss + (1 - self.weight) * dice_loss"
   ],
   "outputs": [
    {
     "name": "stdout",
     "output_type": "stream",
     "text": [
      "Segmentation running on: cpu\n"
     ]
    }
   ],
   "execution_count": 45
  },
  {
   "metadata": {
    "ExecuteTime": {
     "end_time": "2025-10-28T08:26:12.289014Z",
     "start_time": "2025-10-28T08:26:12.270267Z"
    }
   },
   "cell_type": "code",
   "source": [
    "# --- Prepare Training Data ---\n",
    "full_train_df = create_seg_dataframe(base_dir='train')\n",
    "full_train_df"
   ],
   "id": "d79f614996b2d224",
   "outputs": [
    {
     "data": {
      "text/plain": [
       "                               image_path  \\\n",
       "0      train\\benign\\images\\benign (1).png   \n",
       "1    train\\benign\\images\\benign (100).png   \n",
       "2    train\\benign\\images\\benign (101).png   \n",
       "3    train\\benign\\images\\benign (102).png   \n",
       "4    train\\benign\\images\\benign (103).png   \n",
       "..                                    ...   \n",
       "619   train\\normal\\images\\normal (95).png   \n",
       "620   train\\normal\\images\\normal (96).png   \n",
       "621   train\\normal\\images\\normal (97).png   \n",
       "622   train\\normal\\images\\normal (98).png   \n",
       "623   train\\normal\\images\\normal (99).png   \n",
       "\n",
       "                                    mask_path   class  \n",
       "0      train\\benign\\masks\\benign (1)_mask.png  benign  \n",
       "1    train\\benign\\masks\\benign (100)_mask.png  benign  \n",
       "2    train\\benign\\masks\\benign (101)_mask.png  benign  \n",
       "3    train\\benign\\masks\\benign (102)_mask.png  benign  \n",
       "4    train\\benign\\masks\\benign (103)_mask.png  benign  \n",
       "..                                        ...     ...  \n",
       "619                                      None  normal  \n",
       "620                                      None  normal  \n",
       "621                                      None  normal  \n",
       "622                                      None  normal  \n",
       "623                                      None  normal  \n",
       "\n",
       "[624 rows x 3 columns]"
      ],
      "text/html": [
       "<div>\n",
       "<style scoped>\n",
       "    .dataframe tbody tr th:only-of-type {\n",
       "        vertical-align: middle;\n",
       "    }\n",
       "\n",
       "    .dataframe tbody tr th {\n",
       "        vertical-align: top;\n",
       "    }\n",
       "\n",
       "    .dataframe thead th {\n",
       "        text-align: right;\n",
       "    }\n",
       "</style>\n",
       "<table border=\"1\" class=\"dataframe\">\n",
       "  <thead>\n",
       "    <tr style=\"text-align: right;\">\n",
       "      <th></th>\n",
       "      <th>image_path</th>\n",
       "      <th>mask_path</th>\n",
       "      <th>class</th>\n",
       "    </tr>\n",
       "  </thead>\n",
       "  <tbody>\n",
       "    <tr>\n",
       "      <th>0</th>\n",
       "      <td>train\\benign\\images\\benign (1).png</td>\n",
       "      <td>train\\benign\\masks\\benign (1)_mask.png</td>\n",
       "      <td>benign</td>\n",
       "    </tr>\n",
       "    <tr>\n",
       "      <th>1</th>\n",
       "      <td>train\\benign\\images\\benign (100).png</td>\n",
       "      <td>train\\benign\\masks\\benign (100)_mask.png</td>\n",
       "      <td>benign</td>\n",
       "    </tr>\n",
       "    <tr>\n",
       "      <th>2</th>\n",
       "      <td>train\\benign\\images\\benign (101).png</td>\n",
       "      <td>train\\benign\\masks\\benign (101)_mask.png</td>\n",
       "      <td>benign</td>\n",
       "    </tr>\n",
       "    <tr>\n",
       "      <th>3</th>\n",
       "      <td>train\\benign\\images\\benign (102).png</td>\n",
       "      <td>train\\benign\\masks\\benign (102)_mask.png</td>\n",
       "      <td>benign</td>\n",
       "    </tr>\n",
       "    <tr>\n",
       "      <th>4</th>\n",
       "      <td>train\\benign\\images\\benign (103).png</td>\n",
       "      <td>train\\benign\\masks\\benign (103)_mask.png</td>\n",
       "      <td>benign</td>\n",
       "    </tr>\n",
       "    <tr>\n",
       "      <th>...</th>\n",
       "      <td>...</td>\n",
       "      <td>...</td>\n",
       "      <td>...</td>\n",
       "    </tr>\n",
       "    <tr>\n",
       "      <th>619</th>\n",
       "      <td>train\\normal\\images\\normal (95).png</td>\n",
       "      <td>None</td>\n",
       "      <td>normal</td>\n",
       "    </tr>\n",
       "    <tr>\n",
       "      <th>620</th>\n",
       "      <td>train\\normal\\images\\normal (96).png</td>\n",
       "      <td>None</td>\n",
       "      <td>normal</td>\n",
       "    </tr>\n",
       "    <tr>\n",
       "      <th>621</th>\n",
       "      <td>train\\normal\\images\\normal (97).png</td>\n",
       "      <td>None</td>\n",
       "      <td>normal</td>\n",
       "    </tr>\n",
       "    <tr>\n",
       "      <th>622</th>\n",
       "      <td>train\\normal\\images\\normal (98).png</td>\n",
       "      <td>None</td>\n",
       "      <td>normal</td>\n",
       "    </tr>\n",
       "    <tr>\n",
       "      <th>623</th>\n",
       "      <td>train\\normal\\images\\normal (99).png</td>\n",
       "      <td>None</td>\n",
       "      <td>normal</td>\n",
       "    </tr>\n",
       "  </tbody>\n",
       "</table>\n",
       "<p>624 rows × 3 columns</p>\n",
       "</div>"
      ]
     },
     "execution_count": 47,
     "metadata": {},
     "output_type": "execute_result"
    }
   ],
   "execution_count": 47
  },
  {
   "metadata": {
    "ExecuteTime": {
     "end_time": "2025-10-28T08:33:39.228907Z",
     "start_time": "2025-10-28T08:33:39.218883Z"
    }
   },
   "cell_type": "code",
   "source": [
    "# Split data into training (80%) and validation (20%)\n",
    "train_size = int(0.8 * len(full_train_df))\n",
    "val_size = len(full_train_df) - train_size\n",
    "train_df, val_df = random_split(full_train_df, [train_size, val_size])\n",
    "# Convert to DataFrame for easier indexing\n",
    "train_df = full_train_df.iloc[train_df.indices].reset_index(drop=True)\n",
    "val_df = full_train_df.iloc[val_df.indices].reset_index(drop=True)"
   ],
   "id": "b7a7800aa8906036",
   "outputs": [],
   "execution_count": null
  },
  {
   "metadata": {},
   "cell_type": "code",
   "outputs": [],
   "execution_count": 53,
   "source": [
    "# --- Define Transforms ---\n",
    "train_transform_seg = A.Compose([\n",
    "    A.Resize(seg_cfg.IMAGE_SIZE, seg_cfg.IMAGE_SIZE),\n",
    "    A.HorizontalFlip(p=0.5),\n",
    "    A.Rotate(limit=15, p=0.5),\n",
    "    A.Normalize(mean=(0.485, 0.456, 0.406), std=(0.229, 0.224, 0.225)),\n",
    "    ToTensorV2(),\n",
    "])\n",
    "\n",
    "val_transform_seg = A.Compose([\n",
    "    A.Resize(seg_cfg.IMAGE_SIZE, seg_cfg.IMAGE_SIZE),\n",
    "    A.Normalize(mean=(0.485, 0.456, 0.406), std=(0.229, 0.224, 0.225)),\n",
    "    ToTensorV2(),\n",
    "])"
   ],
   "id": "fd1bd2d8b907cd06"
  },
  {
   "metadata": {
    "ExecuteTime": {
     "end_time": "2025-10-28T08:33:51.473248Z",
     "start_time": "2025-10-28T08:33:51.457720Z"
    }
   },
   "cell_type": "code",
   "source": [
    "# --- Create DataLoaders ---\n",
    "train_dataset_seg = SegmentationXRayDataset(train_df, transform=train_transform_seg)\n",
    "val_dataset_seg = SegmentationXRayDataset(val_df, transform=val_transform_seg)\n",
    "\n",
    "train_loader_seg = DataLoader(train_dataset_seg, batch_size=seg_cfg.BATCH_SIZE, shuffle=True, num_workers=0)\n",
    "val_loader_seg = DataLoader(val_dataset_seg, batch_size=seg_cfg.BATCH_SIZE, shuffle=False, num_workers=0)\n",
    "\n",
    "print(f\"Train samples: {len(train_dataset_seg)}, Validation samples: {len(val_dataset_seg)}\")"
   ],
   "id": "1d31adb0505f91c8",
   "outputs": [],
   "execution_count": 54
  },
  {
   "metadata": {},
   "cell_type": "code",
   "outputs": [],
   "execution_count": null,
   "source": [
    "# --- Define Model, Loss, and Optimizer ---\n",
    "unet_model = smp.Unet(\n",
    "    encoder_name=seg_cfg.BACKBONE,     # Pre-trained ResNet34\n",
    "    encoder_weights=\"imagenet\",        # Use ImageNet weights\n",
    "    in_channels=3,                     # RGB input\n",
    "    classes=1,                         # Single-channel output (mask)\n",
    "    activation=None,                   # To use Logits in BCEWithLogitsLoss\n",
    ").to(seg_cfg.DEVICE)\n",
    "\n",
    "loss_fn_seg = CombinedLoss(weight=0.5)\n",
    "optimizer_seg = optim.Adam(unet_model.parameters(), lr=seg_cfg.LEARNING_RATE)\n",
    "scheduler_seg = optim.lr_scheduler.ReduceLROnPlateau(optimizer_seg, mode='min', factor=0.1, patience=5)"
   ],
   "id": "9868593e8b799458"
  },
  {
   "metadata": {},
   "cell_type": "code",
   "outputs": [],
   "execution_count": null,
   "source": [
    "# --- Evaluation Function ---\n",
    "# IoU (Intersection over Union) metric for segmentation performance\n",
    "def iou_metric(preds, targets):\n",
    "    preds = (preds > 0.5).float() # Convert to binary mask\n",
    "    intersection = (preds * targets).sum()\n",
    "    union = (preds + targets).sum() - intersection\n",
    "    iou = (intersection + 1e-6) / (union + 1e-6)\n",
    "    return iou.mean()"
   ],
   "id": "c7282e076ec723ca"
  },
  {
   "metadata": {},
   "cell_type": "code",
   "outputs": [
    {
     "name": "stdout",
     "output_type": "stream",
     "text": [
      "Train samples: 499, Validation samples: 125\n",
      "\n",
      "--- Starting U-Net Training ---\n"
     ]
    },
    {
     "data": {
      "text/plain": [
       "Epoch 1 Train:   0%|          | 0/63 [00:00<?, ?it/s]"
      ],
      "application/vnd.jupyter.widget-view+json": {
       "version_major": 2,
       "version_minor": 0,
       "model_id": "2ad020d591cf46539c5200bbff67068f"
      }
     },
     "metadata": {},
     "output_type": "display_data"
    },
    {
     "data": {
      "text/plain": [
       "Epoch 1 Val:   0%|          | 0/16 [00:00<?, ?it/s]"
      ],
      "application/vnd.jupyter.widget-view+json": {
       "version_major": 2,
       "version_minor": 0,
       "model_id": "52a6afd9aac042f0b37ff9237d0ef561"
      }
     },
     "metadata": {},
     "output_type": "display_data"
    },
    {
     "name": "stdout",
     "output_type": "stream",
     "text": [
      "Epoch 1/20: Train Loss: 0.6687, Val Loss: 0.5924, Val IoU: 0.3726\n",
      "  --> Model saved with improved IoU: 0.3726\n"
     ]
    },
    {
     "data": {
      "text/plain": [
       "Epoch 2 Train:   0%|          | 0/63 [00:00<?, ?it/s]"
      ],
      "application/vnd.jupyter.widget-view+json": {
       "version_major": 2,
       "version_minor": 0,
       "model_id": "6fd6efdaac8149d6b6b6f71d068ff03f"
      }
     },
     "metadata": {},
     "output_type": "display_data"
    },
    {
     "data": {
      "text/plain": [
       "Epoch 2 Val:   0%|          | 0/16 [00:00<?, ?it/s]"
      ],
      "application/vnd.jupyter.widget-view+json": {
       "version_major": 2,
       "version_minor": 0,
       "model_id": "dadaaae2fbe8413493e00870ed48d88a"
      }
     },
     "metadata": {},
     "output_type": "display_data"
    },
    {
     "name": "stdout",
     "output_type": "stream",
     "text": [
      "Epoch 2/20: Train Loss: 0.5090, Val Loss: 0.4814, Val IoU: 0.4423\n",
      "  --> Model saved with improved IoU: 0.4423\n"
     ]
    },
    {
     "data": {
      "text/plain": [
       "Epoch 3 Train:   0%|          | 0/63 [00:00<?, ?it/s]"
      ],
      "application/vnd.jupyter.widget-view+json": {
       "version_major": 2,
       "version_minor": 0,
       "model_id": "55fa4be7145c445b925166421a25c841"
      }
     },
     "metadata": {},
     "output_type": "display_data"
    },
    {
     "data": {
      "text/plain": [
       "Epoch 3 Val:   0%|          | 0/16 [00:00<?, ?it/s]"
      ],
      "application/vnd.jupyter.widget-view+json": {
       "version_major": 2,
       "version_minor": 0,
       "model_id": "9198ae6e91bc49e9b021574fccf0b4d3"
      }
     },
     "metadata": {},
     "output_type": "display_data"
    },
    {
     "name": "stdout",
     "output_type": "stream",
     "text": [
      "Epoch 3/20: Train Loss: 0.4353, Val Loss: 0.4404, Val IoU: 0.4701\n",
      "  --> Model saved with improved IoU: 0.4701\n"
     ]
    },
    {
     "data": {
      "text/plain": [
       "Epoch 4 Train:   0%|          | 0/63 [00:00<?, ?it/s]"
      ],
      "application/vnd.jupyter.widget-view+json": {
       "version_major": 2,
       "version_minor": 0,
       "model_id": "ed4cc6362c7248a4b26d50d860fe8e2a"
      }
     },
     "metadata": {},
     "output_type": "display_data"
    },
    {
     "data": {
      "text/plain": [
       "Epoch 4 Val:   0%|          | 0/16 [00:00<?, ?it/s]"
      ],
      "application/vnd.jupyter.widget-view+json": {
       "version_major": 2,
       "version_minor": 0,
       "model_id": "eac21ddccd7f4ac9854f4e1346c23ea8"
      }
     },
     "metadata": {},
     "output_type": "display_data"
    },
    {
     "name": "stdout",
     "output_type": "stream",
     "text": [
      "Epoch 4/20: Train Loss: 0.3761, Val Loss: 0.3915, Val IoU: 0.5151\n",
      "  --> Model saved with improved IoU: 0.5151\n"
     ]
    },
    {
     "data": {
      "text/plain": [
       "Epoch 5 Train:   0%|          | 0/63 [00:00<?, ?it/s]"
      ],
      "application/vnd.jupyter.widget-view+json": {
       "version_major": 2,
       "version_minor": 0,
       "model_id": "d30ad916b08146db9c031f7f50fad9fd"
      }
     },
     "metadata": {},
     "output_type": "display_data"
    },
    {
     "data": {
      "text/plain": [
       "Epoch 5 Val:   0%|          | 0/16 [00:00<?, ?it/s]"
      ],
      "application/vnd.jupyter.widget-view+json": {
       "version_major": 2,
       "version_minor": 0,
       "model_id": "45ce2775dae2451d9c4b9e2451ab5861"
      }
     },
     "metadata": {},
     "output_type": "display_data"
    },
    {
     "name": "stdout",
     "output_type": "stream",
     "text": [
      "Epoch 5/20: Train Loss: 0.3263, Val Loss: 0.3890, Val IoU: 0.4596\n"
     ]
    },
    {
     "data": {
      "text/plain": [
       "Epoch 6 Train:   0%|          | 0/63 [00:00<?, ?it/s]"
      ],
      "application/vnd.jupyter.widget-view+json": {
       "version_major": 2,
       "version_minor": 0,
       "model_id": "4ca0e48fbc8443d69f16ef89122a5af8"
      }
     },
     "metadata": {},
     "output_type": "display_data"
    },
    {
     "data": {
      "text/plain": [
       "Epoch 6 Val:   0%|          | 0/16 [00:00<?, ?it/s]"
      ],
      "application/vnd.jupyter.widget-view+json": {
       "version_major": 2,
       "version_minor": 0,
       "model_id": "b71a367dd3c14bdda965cc01f86abbf6"
      }
     },
     "metadata": {},
     "output_type": "display_data"
    },
    {
     "name": "stdout",
     "output_type": "stream",
     "text": [
      "Epoch 6/20: Train Loss: 0.2876, Val Loss: 0.3328, Val IoU: 0.5254\n",
      "  --> Model saved with improved IoU: 0.5254\n"
     ]
    },
    {
     "data": {
      "text/plain": [
       "Epoch 7 Train:   0%|          | 0/63 [00:00<?, ?it/s]"
      ],
      "application/vnd.jupyter.widget-view+json": {
       "version_major": 2,
       "version_minor": 0,
       "model_id": "69d0915b62c142319d459039a0fa87b2"
      }
     },
     "metadata": {},
     "output_type": "display_data"
    },
    {
     "data": {
      "text/plain": [
       "Epoch 7 Val:   0%|          | 0/16 [00:00<?, ?it/s]"
      ],
      "application/vnd.jupyter.widget-view+json": {
       "version_major": 2,
       "version_minor": 0,
       "model_id": "7addef71d714408086ea004bed4511e5"
      }
     },
     "metadata": {},
     "output_type": "display_data"
    },
    {
     "name": "stdout",
     "output_type": "stream",
     "text": [
      "Epoch 7/20: Train Loss: 0.2611, Val Loss: 0.3268, Val IoU: 0.5188\n"
     ]
    },
    {
     "data": {
      "text/plain": [
       "Epoch 8 Train:   0%|          | 0/63 [00:00<?, ?it/s]"
      ],
      "application/vnd.jupyter.widget-view+json": {
       "version_major": 2,
       "version_minor": 0,
       "model_id": "ffbb9656f79343dfa92b7af72f53c09d"
      }
     },
     "metadata": {},
     "output_type": "display_data"
    },
    {
     "data": {
      "text/plain": [
       "Epoch 8 Val:   0%|          | 0/16 [00:00<?, ?it/s]"
      ],
      "application/vnd.jupyter.widget-view+json": {
       "version_major": 2,
       "version_minor": 0,
       "model_id": "8c25ec9308bb432bbfaff98338817b86"
      }
     },
     "metadata": {},
     "output_type": "display_data"
    },
    {
     "name": "stdout",
     "output_type": "stream",
     "text": [
      "Epoch 8/20: Train Loss: 0.2376, Val Loss: 0.3245, Val IoU: 0.5056\n"
     ]
    },
    {
     "data": {
      "text/plain": [
       "Epoch 9 Train:   0%|          | 0/63 [00:00<?, ?it/s]"
      ],
      "application/vnd.jupyter.widget-view+json": {
       "version_major": 2,
       "version_minor": 0,
       "model_id": "634c1ab1b58544e1af8219539a287b90"
      }
     },
     "metadata": {},
     "output_type": "display_data"
    },
    {
     "data": {
      "text/plain": [
       "Epoch 9 Val:   0%|          | 0/16 [00:00<?, ?it/s]"
      ],
      "application/vnd.jupyter.widget-view+json": {
       "version_major": 2,
       "version_minor": 0,
       "model_id": "e63643916f5548c4ab974365bde7cfdb"
      }
     },
     "metadata": {},
     "output_type": "display_data"
    },
    {
     "name": "stdout",
     "output_type": "stream",
     "text": [
      "Epoch 9/20: Train Loss: 0.2199, Val Loss: 0.3121, Val IoU: 0.4807\n"
     ]
    },
    {
     "data": {
      "text/plain": [
       "Epoch 10 Train:   0%|          | 0/63 [00:00<?, ?it/s]"
      ],
      "application/vnd.jupyter.widget-view+json": {
       "version_major": 2,
       "version_minor": 0,
       "model_id": "09149b8b3bbe4ad1b83173eb2ccc11b9"
      }
     },
     "metadata": {},
     "output_type": "display_data"
    },
    {
     "data": {
      "text/plain": [
       "Epoch 10 Val:   0%|          | 0/16 [00:00<?, ?it/s]"
      ],
      "application/vnd.jupyter.widget-view+json": {
       "version_major": 2,
       "version_minor": 0,
       "model_id": "67d44e8933e04cd9b896705527d29709"
      }
     },
     "metadata": {},
     "output_type": "display_data"
    },
    {
     "name": "stdout",
     "output_type": "stream",
     "text": [
      "Epoch 10/20: Train Loss: 0.1922, Val Loss: 0.2792, Val IoU: 0.5437\n",
      "  --> Model saved with improved IoU: 0.5437\n"
     ]
    },
    {
     "data": {
      "text/plain": [
       "Epoch 11 Train:   0%|          | 0/63 [00:00<?, ?it/s]"
      ],
      "application/vnd.jupyter.widget-view+json": {
       "version_major": 2,
       "version_minor": 0,
       "model_id": "0d86f6f325814f28b2b467210f0be2fa"
      }
     },
     "metadata": {},
     "output_type": "display_data"
    },
    {
     "data": {
      "text/plain": [
       "Epoch 11 Val:   0%|          | 0/16 [00:00<?, ?it/s]"
      ],
      "application/vnd.jupyter.widget-view+json": {
       "version_major": 2,
       "version_minor": 0,
       "model_id": "6f0247744b3545468edadced0900e722"
      }
     },
     "metadata": {},
     "output_type": "display_data"
    },
    {
     "name": "stdout",
     "output_type": "stream",
     "text": [
      "Epoch 11/20: Train Loss: 0.1724, Val Loss: 0.2809, Val IoU: 0.5275\n"
     ]
    },
    {
     "data": {
      "text/plain": [
       "Epoch 12 Train:   0%|          | 0/63 [00:00<?, ?it/s]"
      ],
      "application/vnd.jupyter.widget-view+json": {
       "version_major": 2,
       "version_minor": 0,
       "model_id": "91d0d21393ee4334a487b58710b6c056"
      }
     },
     "metadata": {},
     "output_type": "display_data"
    },
    {
     "data": {
      "text/plain": [
       "Epoch 12 Val:   0%|          | 0/16 [00:00<?, ?it/s]"
      ],
      "application/vnd.jupyter.widget-view+json": {
       "version_major": 2,
       "version_minor": 0,
       "model_id": "75cdc07d573b46dbb0ddc81e9f1db9a4"
      }
     },
     "metadata": {},
     "output_type": "display_data"
    },
    {
     "name": "stdout",
     "output_type": "stream",
     "text": [
      "Epoch 12/20: Train Loss: 0.1663, Val Loss: 0.2691, Val IoU: 0.5271\n"
     ]
    },
    {
     "data": {
      "text/plain": [
       "Epoch 13 Train:   0%|          | 0/63 [00:00<?, ?it/s]"
      ],
      "application/vnd.jupyter.widget-view+json": {
       "version_major": 2,
       "version_minor": 0,
       "model_id": "818f9c18cf064ad68d673b1fac423ca3"
      }
     },
     "metadata": {},
     "output_type": "display_data"
    },
    {
     "data": {
      "text/plain": [
       "Epoch 13 Val:   0%|          | 0/16 [00:00<?, ?it/s]"
      ],
      "application/vnd.jupyter.widget-view+json": {
       "version_major": 2,
       "version_minor": 0,
       "model_id": "79158298c0274057ba8d1d09f6bb0e5e"
      }
     },
     "metadata": {},
     "output_type": "display_data"
    },
    {
     "name": "stdout",
     "output_type": "stream",
     "text": [
      "Epoch 13/20: Train Loss: 0.1594, Val Loss: 0.2608, Val IoU: 0.5393\n"
     ]
    },
    {
     "data": {
      "text/plain": [
       "Epoch 14 Train:   0%|          | 0/63 [00:00<?, ?it/s]"
      ],
      "application/vnd.jupyter.widget-view+json": {
       "version_major": 2,
       "version_minor": 0,
       "model_id": "57ca9d6dd3034bf1a02c57e1235502cc"
      }
     },
     "metadata": {},
     "output_type": "display_data"
    },
    {
     "data": {
      "text/plain": [
       "Epoch 14 Val:   0%|          | 0/16 [00:00<?, ?it/s]"
      ],
      "application/vnd.jupyter.widget-view+json": {
       "version_major": 2,
       "version_minor": 0,
       "model_id": "ea3f16c2c55e4799bd1044ef152384cc"
      }
     },
     "metadata": {},
     "output_type": "display_data"
    },
    {
     "name": "stdout",
     "output_type": "stream",
     "text": [
      "Epoch 14/20: Train Loss: 0.1511, Val Loss: 0.2685, Val IoU: 0.5381\n"
     ]
    },
    {
     "data": {
      "text/plain": [
       "Epoch 15 Train:   0%|          | 0/63 [00:00<?, ?it/s]"
      ],
      "application/vnd.jupyter.widget-view+json": {
       "version_major": 2,
       "version_minor": 0,
       "model_id": "388b67cda8d048608881ea5bf08181f0"
      }
     },
     "metadata": {},
     "output_type": "display_data"
    },
    {
     "data": {
      "text/plain": [
       "Epoch 15 Val:   0%|          | 0/16 [00:00<?, ?it/s]"
      ],
      "application/vnd.jupyter.widget-view+json": {
       "version_major": 2,
       "version_minor": 0,
       "model_id": "89a5032a08d84410baa6f82d1dc0c876"
      }
     },
     "metadata": {},
     "output_type": "display_data"
    },
    {
     "name": "stdout",
     "output_type": "stream",
     "text": [
      "Epoch 15/20: Train Loss: 0.1318, Val Loss: 0.2747, Val IoU: 0.5263\n"
     ]
    },
    {
     "data": {
      "text/plain": [
       "Epoch 16 Train:   0%|          | 0/63 [00:00<?, ?it/s]"
      ],
      "application/vnd.jupyter.widget-view+json": {
       "version_major": 2,
       "version_minor": 0,
       "model_id": "6dabb103af394aed92cf39338861f44a"
      }
     },
     "metadata": {},
     "output_type": "display_data"
    },
    {
     "data": {
      "text/plain": [
       "Epoch 16 Val:   0%|          | 0/16 [00:00<?, ?it/s]"
      ],
      "application/vnd.jupyter.widget-view+json": {
       "version_major": 2,
       "version_minor": 0,
       "model_id": "dff3ece0c93141acb6b88439818a4e1e"
      }
     },
     "metadata": {},
     "output_type": "display_data"
    },
    {
     "name": "stdout",
     "output_type": "stream",
     "text": [
      "Epoch 16/20: Train Loss: 0.1205, Val Loss: 0.2470, Val IoU: 0.5585\n",
      "  --> Model saved with improved IoU: 0.5585\n"
     ]
    },
    {
     "data": {
      "text/plain": [
       "Epoch 17 Train:   0%|          | 0/63 [00:00<?, ?it/s]"
      ],
      "application/vnd.jupyter.widget-view+json": {
       "version_major": 2,
       "version_minor": 0,
       "model_id": "e80fe2b4888a4b9eb12325e8187e0f39"
      }
     },
     "metadata": {},
     "output_type": "display_data"
    },
    {
     "data": {
      "text/plain": [
       "Epoch 17 Val:   0%|          | 0/16 [00:00<?, ?it/s]"
      ],
      "application/vnd.jupyter.widget-view+json": {
       "version_major": 2,
       "version_minor": 0,
       "model_id": "491557b3165841c1a123267b8ed554f6"
      }
     },
     "metadata": {},
     "output_type": "display_data"
    },
    {
     "name": "stdout",
     "output_type": "stream",
     "text": [
      "Epoch 17/20: Train Loss: 0.1637, Val Loss: 0.2748, Val IoU: 0.5004\n"
     ]
    },
    {
     "data": {
      "text/plain": [
       "Epoch 18 Train:   0%|          | 0/63 [00:00<?, ?it/s]"
      ],
      "application/vnd.jupyter.widget-view+json": {
       "version_major": 2,
       "version_minor": 0,
       "model_id": "f3adbbff69694200a3ff97335e03f644"
      }
     },
     "metadata": {},
     "output_type": "display_data"
    },
    {
     "data": {
      "text/plain": [
       "Epoch 18 Val:   0%|          | 0/16 [00:00<?, ?it/s]"
      ],
      "application/vnd.jupyter.widget-view+json": {
       "version_major": 2,
       "version_minor": 0,
       "model_id": "d260340dcd9c4a7195747b1489689adf"
      }
     },
     "metadata": {},
     "output_type": "display_data"
    },
    {
     "name": "stdout",
     "output_type": "stream",
     "text": [
      "Epoch 18/20: Train Loss: 0.1484, Val Loss: 0.2529, Val IoU: 0.5360\n"
     ]
    },
    {
     "data": {
      "text/plain": [
       "Epoch 19 Train:   0%|          | 0/63 [00:00<?, ?it/s]"
      ],
      "application/vnd.jupyter.widget-view+json": {
       "version_major": 2,
       "version_minor": 0,
       "model_id": "26142f4995d14d3baa3b12deecb0d5bc"
      }
     },
     "metadata": {},
     "output_type": "display_data"
    },
    {
     "data": {
      "text/plain": [
       "Epoch 19 Val:   0%|          | 0/16 [00:00<?, ?it/s]"
      ],
      "application/vnd.jupyter.widget-view+json": {
       "version_major": 2,
       "version_minor": 0,
       "model_id": "c44efc6c9e954fae8b5fb49e2c2e25da"
      }
     },
     "metadata": {},
     "output_type": "display_data"
    },
    {
     "name": "stdout",
     "output_type": "stream",
     "text": [
      "Epoch 19/20: Train Loss: 0.1266, Val Loss: 0.2466, Val IoU: 0.5590\n",
      "  --> Model saved with improved IoU: 0.5590\n"
     ]
    },
    {
     "data": {
      "text/plain": [
       "Epoch 20 Train:   0%|          | 0/63 [00:00<?, ?it/s]"
      ],
      "application/vnd.jupyter.widget-view+json": {
       "version_major": 2,
       "version_minor": 0,
       "model_id": "bf82ab7c084946dd8ae32027570c107f"
      }
     },
     "metadata": {},
     "output_type": "display_data"
    },
    {
     "data": {
      "text/plain": [
       "Epoch 20 Val:   0%|          | 0/16 [00:00<?, ?it/s]"
      ],
      "application/vnd.jupyter.widget-view+json": {
       "version_major": 2,
       "version_minor": 0,
       "model_id": "07fea74723f94615b16a742abb91e098"
      }
     },
     "metadata": {},
     "output_type": "display_data"
    },
    {
     "name": "stdout",
     "output_type": "stream",
     "text": [
      "Epoch 20/20: Train Loss: 0.1137, Val Loss: 0.2394, Val IoU: 0.5713\n",
      "  --> Model saved with improved IoU: 0.5713\n",
      "\n",
      "--- U-Net Training Complete ---\n"
     ]
    }
   ],
   "execution_count": 56,
   "source": [
    "# --- Training Loop ---\n",
    "best_val_iou = 0\n",
    "print(\"\\n--- Starting U-Net Training ---\")\n",
    "for epoch in range(seg_cfg.NUM_EPOCHS):\n",
    "    # Train Loop\n",
    "    unet_model.train()\n",
    "    train_loss = 0\n",
    "    for images, masks in tqdm(train_loader_seg, desc=f\"Epoch {epoch+1} Train\"):\n",
    "        images = images.to(seg_cfg.DEVICE)\n",
    "        masks = masks.to(seg_cfg.DEVICE)\n",
    "        \n",
    "        # Forward pass\n",
    "        outputs = unet_model(images)\n",
    "        loss = loss_fn_seg(outputs, masks)\n",
    "        \n",
    "        # Backward pass and optimization\n",
    "        optimizer_seg.zero_grad()\n",
    "        loss.backward()\n",
    "        optimizer_seg.step()\n",
    "        \n",
    "        train_loss += loss.item()\n",
    "    \n",
    "    avg_train_loss = train_loss / len(train_loader_seg)\n",
    "\n",
    "    # Validation Loop\n",
    "    unet_model.eval()\n",
    "    val_loss = 0\n",
    "    val_iou = 0\n",
    "    with torch.no_grad():\n",
    "        for images, masks in tqdm(val_loader_seg, desc=f\"Epoch {epoch+1} Val\"):\n",
    "            images = images.to(seg_cfg.DEVICE)\n",
    "            masks = masks.to(seg_cfg.DEVICE)\n",
    "            \n",
    "            outputs = unet_model(images)\n",
    "            loss = loss_fn_seg(outputs, masks)\n",
    "            val_loss += loss.item()\n",
    "            \n",
    "            # Calculate IoU\n",
    "            sigmoid_outputs = torch.sigmoid(outputs)\n",
    "            val_iou += iou_metric(sigmoid_outputs, masks).item()\n",
    "            \n",
    "    avg_val_loss = val_loss / len(val_loader_seg)\n",
    "    avg_val_iou = val_iou / len(val_loader_seg)\n",
    "\n",
    "    print(f\"Epoch {epoch+1}/{seg_cfg.NUM_EPOCHS}: Train Loss: {avg_train_loss:.4f}, Val Loss: {avg_val_loss:.4f}, Val IoU: {avg_val_iou:.4f}\")\n",
    "\n",
    "    # Update learning scheduler and save best model\n",
    "    scheduler_seg.step(avg_val_loss)\n",
    "\n",
    "    if avg_val_iou > best_val_iou:\n",
    "        best_val_iou = avg_val_iou\n",
    "        torch.save(unet_model.state_dict(), 'best_unet_model.pth')\n",
    "        print(f\"  --> Model saved with improved IoU: {best_val_iou:.4f}\")\n",
    "\n",
    "print(\"\\n--- U-Net Training Complete ---\")"
   ],
   "id": "52873e41836d74f6"
  },
  {
   "metadata": {
    "ExecuteTime": {
     "end_time": "2025-10-28T09:17:20.621807Z",
     "start_time": "2025-10-28T09:17:13.782425Z"
    }
   },
   "cell_type": "code",
   "source": [
    "# --- Load the best-trained model ---\n",
    "best_unet_model = smp.Unet(\n",
    "    encoder_name=seg_cfg.BACKBONE,\n",
    "    encoder_weights=None, # We will load weights from the file\n",
    "    in_channels=3,\n",
    "    classes=1,\n",
    "    activation=None,\n",
    ").to(seg_cfg.DEVICE)\n",
    "best_unet_model.load_state_dict(torch.load('best_unet_model.pth'))"
   ],
   "id": "a2011e52b5ea9fb7",
   "outputs": [],
   "execution_count": null
  },
  {
   "metadata": {},
   "cell_type": "code",
   "outputs": [],
   "execution_count": null,
   "source": [
    "def get_original_image_sizes(test_df_raw, image_dir):\n",
    "    \"\"\"Returns a map of image name to original dimensions (width, height).\"\"\"\n",
    "    size_map = {}\n",
    "    for img_name in test_df_raw['image']:\n",
    "        img_path = os.path.join(image_dir, img_name)\n",
    "        try:\n",
    "            # Open image to read dimensions\n",
    "            with Image.open(img_path) as img:\n",
    "                size_map[img_name] = img.size # (width, height)\n",
    "        except Exception as e:\n",
    "            # If reading fails, use default dimensions (which was 500x500)\n",
    "            print(f\"Warning: Could not read image size for {img_name}. Using default 500x500. Error: {e}\")\n",
    "            size_map[img_name] = (500, 500) # Fallback\n",
    "    return size_map"
   ],
   "id": "167fe11bc84f0e02"
  },
  {
   "metadata": {},
   "cell_type": "code",
   "outputs": [
    {
     "name": "stdout",
     "output_type": "stream",
     "text": [
      "Starting prediction and saving masks to segmentation/...\n"
     ]
    },
    {
     "data": {
      "text/plain": [
       "Predicting Test Masks:   0%|          | 0/20 [00:00<?, ?it/s]"
      ],
      "application/vnd.jupyter.widget-view+json": {
       "version_major": 2,
       "version_minor": 0,
       "model_id": "c3633a58c82644b8a7d5ade05f526efa"
      }
     },
     "metadata": {},
     "output_type": "display_data"
    },
    {
     "name": "stdout",
     "output_type": "stream",
     "text": [
      "\n",
      "--- Prediction Complete ---\n",
      "All predicted masks are saved in the 'segmentation' folder.\n"
     ]
    }
   ],
   "execution_count": 70,
   "source": [
    "# --- Define final prediction function (modified) ---\n",
    "def predict_segmentation(model, test_loader, device, output_dir='segmentation_submission_masks'):\n",
    "    \"\"\"Generates, saves, and resizes predicted masks to original dimensions.\"\"\"\n",
    "    model.eval()\n",
    "    os.makedirs(output_dir, exist_ok=True)\n",
    "    \n",
    "    # Load Test DataFrame\n",
    "    test_df_raw = pd.read_csv('test/test.csv') \n",
    "    \n",
    "    # A) Collect names and original dimensions\n",
    "    image_names = test_df_raw['image'].tolist()\n",
    "    original_sizes_map = get_original_image_sizes(test_df_raw, TEST_IMAGE_DIR)\n",
    "\n",
    "    print(f\"Starting prediction and saving masks to {output_dir}/...\")\n",
    "\n",
    "    with torch.no_grad():\n",
    "        # Prediction loop (images: image tensor, _: dummy mask tensor)\n",
    "        for i, (images, _) in enumerate(tqdm(test_loader, desc=\"Predicting Test Masks\")):\n",
    "            \n",
    "            images = images.to(device)\n",
    "            \n",
    "            # 1. Predict (Logits)\n",
    "            outputs = model(images)\n",
    "            \n",
    "            # 2. Convert to binary\n",
    "            predictions = torch.sigmoid(outputs) > 0.5\n",
    "            # Convert to 0 or 255\n",
    "            predictions = predictions.cpu().numpy().astype(np.uint8) * 255 \n",
    "\n",
    "            # 3. Save masks with original dimensions\n",
    "            batch_size = predictions.shape[0]\n",
    "            for j in range(batch_size):\n",
    "                mask = predictions[j, 0, :, :] # (1, H, W) -> (H, W)\n",
    "                \n",
    "                # Find image name and original dimensions\n",
    "                idx_in_df = i * test_loader.batch_size + j\n",
    "                img_name = image_names[idx_in_df]\n",
    "                original_width, original_height = original_sizes_map[img_name]\n",
    "                \n",
    "                # Resizing to original dimensions (W, H)\n",
    "                mask_pil = Image.fromarray(mask)\n",
    "                # Use Image.NEAREST to resize pixels without color interpolation\n",
    "                mask_pil = mask_pil.resize(\n",
    "                    (original_width, original_height), \n",
    "                    resample=Image.NEAREST\n",
    "                ) \n",
    "                \n",
    "                # Save\n",
    "                base_name = os.path.splitext(img_name)[0]\n",
    "                output_mask_name = f\"{base_name}_mask.png\"\n",
    "                mask_pil.save(os.path.join(output_dir, output_mask_name))\n",
    "\n",
    "# --- Prepare test data for segmentation ---\n",
    "\n",
    "TEST_IMAGE_DIR = 'test/images/' # Test data path\n",
    "\n",
    "# Create Test DataFrame (no mask needed)\n",
    "test_data_seg = []\n",
    "test_df_raw = pd.read_csv('test/test.csv')\n",
    "for img_name in test_df_raw['image']:\n",
    "    test_data_seg.append({\n",
    "        \"image_path\": os.path.join(TEST_IMAGE_DIR, img_name),\n",
    "        \"mask_path\": None, # Mask not available\n",
    "        \"class\": \"unknown\"\n",
    "    })\n",
    "test_full_df_seg = pd.DataFrame(test_data_seg)\n",
    "\n",
    "# Define Test DataLoader (without Augmentation)\n",
    "test_dataset_seg = SegmentationXRayDataset(test_full_df_seg, transform=val_transform_seg)\n",
    "test_loader_seg = DataLoader(test_dataset_seg, batch_size=seg_cfg.BATCH_SIZE, shuffle=False, num_workers=0)\n",
    "\n",
    "\n",
    "# --- Call prediction function ---\n",
    "predict_segmentation(\n",
    "    model=best_unet_model, \n",
    "    test_loader=test_loader_seg, \n",
    "    device=seg_cfg.DEVICE, \n",
    "    output_dir='segmentation'\n",
    ")\n",
    "\n",
    "print(\"\\n--- Prediction Complete ---\")\n",
    "print(\"All predicted masks are saved in the 'segmentation' folder.\")"
   ],
   "id": "3f78febc19d4e5c3"
  },
  {
   "cell_type": "code",
   "id": "def86ad1a6543f5c",
   "metadata": {
    "ExecuteTime": {
     "end_time": "2025-10-28T09:29:42.546845Z",
     "start_time": "2025-10-28T09:29:42.533106Z"
    }
   },
   "source": [
    "# This command is specific to Jupyter environments to save the notebook file.\n",
    "# You don't need to run the following cells (its whole purpose was only for making a submission zipped file for the contest)\n",
    "\n",
    "def compress(file_names):\n",
    "    print(\"File Paths to be zipped:\")\n",
    "    print(file_names)\n",
    "    compression = zipfile.ZIP_DEFLATED\n",
    "    with zipfile.ZipFile(\"result.zip\", mode=\"w\") as zf:\n",
    "        for file_name in file_names:\n",
    "            if os.path.exists(file_name):\n",
    "                zf.write(file_name, arcname=os.path.basename(file_name), compress_type=compression)\n",
    "            else:\n",
    "                print(f\"Warning: File not found and will not be added to zip: {file_name}\")"
   ],
   "outputs": [],
   "execution_count": 13
  },
  {
   "metadata": {
    "ExecuteTime": {
     "end_time": "2025-10-28T09:29:31.572822Z",
     "start_time": "2025-10-28T09:29:31.178834Z"
    }
   },
   "cell_type": "code",
   "source": [
    "# --- Create final submission files ---\n",
    "\n",
    "# 1. Save the classification results DataFrame to a CSV file\n",
    "submission.to_csv('submission.csv', index=False)\n",
    "\n",
    "# 2. Define the list of files for the zip archive\n",
    "file_names = ['Breast-Cancer-DetSeg.ipynb', 'submission.csv']\n",
    "\n",
    "# 3. Define the list of mask files\n",
    "# Assuming mask files are in 'segmentation' folder\n",
    "segmentation_dir = 'segmentation'\n",
    "if os.path.exists(segmentation_dir):\n",
    "    mask_files = [os.path.join(segmentation_dir, f) for f in os.listdir(segmentation_dir) if f.endswith('_mask.png')]\n",
    "    file_names.extend(mask_files)\n",
    "\n",
    "# 4. Create the zip file\n",
    "compress(file_names)\n",
    "print(\"Submission file 'result.zip' created successfully!\")"
   ],
   "outputs": [],
   "execution_count": 14,
   "id": "2bed8e9250bfcbd4"
  }
 ]
}
